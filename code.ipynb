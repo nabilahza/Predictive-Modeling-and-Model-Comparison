{
 "cells": [
  {
   "cell_type": "code",
   "execution_count": 41,
   "id": "7dc0060c",
   "metadata": {},
   "outputs": [],
   "source": [
    "%config Completer.use_jedi=False # comment if not needed\n",
    "import pandas as pd\n",
    "import numpy as np\n",
    "import warnings\n",
    "warnings.filterwarnings('ignore')\n",
    "from sklearn.neighbors import KNeighborsClassifier\n",
    "from sklearn.tree import DecisionTreeClassifier\n",
    "from sklearn.model_selection import train_test_split\n",
    "from sklearn.metrics import confusion_matrix\n",
    "from sklearn.metrics import f1_score\n",
    "from sklearn.metrics import accuracy_score\n",
    "from sklearn.metrics import recall_score\n",
    "from sklearn.metrics import precision_score\n",
    "from sklearn.metrics import classification_report\n"
   ]
  },
  {
   "cell_type": "code",
   "execution_count": 42,
   "id": "8377389b",
   "metadata": {},
   "outputs": [
    {
     "data": {
      "text/html": [
       "<div>\n",
       "<style scoped>\n",
       "    .dataframe tbody tr th:only-of-type {\n",
       "        vertical-align: middle;\n",
       "    }\n",
       "\n",
       "    .dataframe tbody tr th {\n",
       "        vertical-align: top;\n",
       "    }\n",
       "\n",
       "    .dataframe thead th {\n",
       "        text-align: right;\n",
       "    }\n",
       "</style>\n",
       "<table border=\"1\" class=\"dataframe\">\n",
       "  <thead>\n",
       "    <tr style=\"text-align: right;\">\n",
       "      <th></th>\n",
       "      <th>Age</th>\n",
       "      <th>Number of sexual partners</th>\n",
       "      <th>First sexual intercourse</th>\n",
       "      <th>Num of pregnancies</th>\n",
       "      <th>Smokes</th>\n",
       "      <th>Smokes (years)</th>\n",
       "      <th>Smokes (packs/year)</th>\n",
       "      <th>Hormonal Contraceptives</th>\n",
       "      <th>Hormonal Contraceptives (years)</th>\n",
       "      <th>IUD</th>\n",
       "      <th>...</th>\n",
       "      <th>STDs: Time since first diagnosis</th>\n",
       "      <th>STDs: Time since last diagnosis</th>\n",
       "      <th>Dx:Cancer</th>\n",
       "      <th>Dx:CIN</th>\n",
       "      <th>Dx:HPV</th>\n",
       "      <th>Dx</th>\n",
       "      <th>Hinselmann</th>\n",
       "      <th>Schiller</th>\n",
       "      <th>Citology</th>\n",
       "      <th>Biopsy</th>\n",
       "    </tr>\n",
       "  </thead>\n",
       "  <tbody>\n",
       "    <tr>\n",
       "      <th>543</th>\n",
       "      <td>16</td>\n",
       "      <td>3.0</td>\n",
       "      <td>14.0</td>\n",
       "      <td>2.0</td>\n",
       "      <td>0.0</td>\n",
       "      <td>0.0</td>\n",
       "      <td>0.0</td>\n",
       "      <td>1.0</td>\n",
       "      <td>1.0</td>\n",
       "      <td>0.0</td>\n",
       "      <td>...</td>\n",
       "      <td>?</td>\n",
       "      <td>?</td>\n",
       "      <td>0</td>\n",
       "      <td>0</td>\n",
       "      <td>0</td>\n",
       "      <td>0</td>\n",
       "      <td>0</td>\n",
       "      <td>0</td>\n",
       "      <td>0</td>\n",
       "      <td>0</td>\n",
       "    </tr>\n",
       "    <tr>\n",
       "      <th>26</th>\n",
       "      <td>39</td>\n",
       "      <td>5.0</td>\n",
       "      <td>23.0</td>\n",
       "      <td>2.0</td>\n",
       "      <td>0.0</td>\n",
       "      <td>0.0</td>\n",
       "      <td>0.0</td>\n",
       "      <td>0.0</td>\n",
       "      <td>0.0</td>\n",
       "      <td>1.0</td>\n",
       "      <td>...</td>\n",
       "      <td>?</td>\n",
       "      <td>?</td>\n",
       "      <td>0</td>\n",
       "      <td>0</td>\n",
       "      <td>0</td>\n",
       "      <td>0</td>\n",
       "      <td>0</td>\n",
       "      <td>0</td>\n",
       "      <td>0</td>\n",
       "      <td>0</td>\n",
       "    </tr>\n",
       "    <tr>\n",
       "      <th>256</th>\n",
       "      <td>24</td>\n",
       "      <td>4.0</td>\n",
       "      <td>16.0</td>\n",
       "      <td>1.0</td>\n",
       "      <td>0.0</td>\n",
       "      <td>0.0</td>\n",
       "      <td>0.0</td>\n",
       "      <td>?</td>\n",
       "      <td>?</td>\n",
       "      <td>?</td>\n",
       "      <td>...</td>\n",
       "      <td>?</td>\n",
       "      <td>?</td>\n",
       "      <td>0</td>\n",
       "      <td>0</td>\n",
       "      <td>0</td>\n",
       "      <td>0</td>\n",
       "      <td>0</td>\n",
       "      <td>0</td>\n",
       "      <td>0</td>\n",
       "      <td>0</td>\n",
       "    </tr>\n",
       "    <tr>\n",
       "      <th>788</th>\n",
       "      <td>38</td>\n",
       "      <td>2.0</td>\n",
       "      <td>19.0</td>\n",
       "      <td>5.0</td>\n",
       "      <td>0.0</td>\n",
       "      <td>0.0</td>\n",
       "      <td>0.0</td>\n",
       "      <td>1.0</td>\n",
       "      <td>30.0</td>\n",
       "      <td>?</td>\n",
       "      <td>...</td>\n",
       "      <td>?</td>\n",
       "      <td>?</td>\n",
       "      <td>0</td>\n",
       "      <td>0</td>\n",
       "      <td>0</td>\n",
       "      <td>0</td>\n",
       "      <td>0</td>\n",
       "      <td>0</td>\n",
       "      <td>1</td>\n",
       "      <td>0</td>\n",
       "    </tr>\n",
       "    <tr>\n",
       "      <th>112</th>\n",
       "      <td>30</td>\n",
       "      <td>3.0</td>\n",
       "      <td>19.0</td>\n",
       "      <td>2.0</td>\n",
       "      <td>0.0</td>\n",
       "      <td>0.0</td>\n",
       "      <td>0.0</td>\n",
       "      <td>1.0</td>\n",
       "      <td>9.0</td>\n",
       "      <td>0.0</td>\n",
       "      <td>...</td>\n",
       "      <td>9.0</td>\n",
       "      <td>9.0</td>\n",
       "      <td>0</td>\n",
       "      <td>0</td>\n",
       "      <td>0</td>\n",
       "      <td>0</td>\n",
       "      <td>0</td>\n",
       "      <td>0</td>\n",
       "      <td>0</td>\n",
       "      <td>0</td>\n",
       "    </tr>\n",
       "    <tr>\n",
       "      <th>619</th>\n",
       "      <td>23</td>\n",
       "      <td>3.0</td>\n",
       "      <td>18.0</td>\n",
       "      <td>4.0</td>\n",
       "      <td>1.0</td>\n",
       "      <td>8.0</td>\n",
       "      <td>1.2</td>\n",
       "      <td>?</td>\n",
       "      <td>?</td>\n",
       "      <td>?</td>\n",
       "      <td>...</td>\n",
       "      <td>?</td>\n",
       "      <td>?</td>\n",
       "      <td>0</td>\n",
       "      <td>0</td>\n",
       "      <td>0</td>\n",
       "      <td>0</td>\n",
       "      <td>0</td>\n",
       "      <td>0</td>\n",
       "      <td>0</td>\n",
       "      <td>0</td>\n",
       "    </tr>\n",
       "    <tr>\n",
       "      <th>816</th>\n",
       "      <td>21</td>\n",
       "      <td>2.0</td>\n",
       "      <td>19.0</td>\n",
       "      <td>?</td>\n",
       "      <td>0.0</td>\n",
       "      <td>0.0</td>\n",
       "      <td>0.0</td>\n",
       "      <td>1.0</td>\n",
       "      <td>0.5</td>\n",
       "      <td>?</td>\n",
       "      <td>...</td>\n",
       "      <td>?</td>\n",
       "      <td>?</td>\n",
       "      <td>0</td>\n",
       "      <td>0</td>\n",
       "      <td>0</td>\n",
       "      <td>0</td>\n",
       "      <td>0</td>\n",
       "      <td>0</td>\n",
       "      <td>0</td>\n",
       "      <td>0</td>\n",
       "    </tr>\n",
       "    <tr>\n",
       "      <th>700</th>\n",
       "      <td>28</td>\n",
       "      <td>1.0</td>\n",
       "      <td>17.0</td>\n",
       "      <td>?</td>\n",
       "      <td>0.0</td>\n",
       "      <td>0.0</td>\n",
       "      <td>0.0</td>\n",
       "      <td>?</td>\n",
       "      <td>?</td>\n",
       "      <td>?</td>\n",
       "      <td>...</td>\n",
       "      <td>?</td>\n",
       "      <td>?</td>\n",
       "      <td>0</td>\n",
       "      <td>0</td>\n",
       "      <td>0</td>\n",
       "      <td>0</td>\n",
       "      <td>0</td>\n",
       "      <td>0</td>\n",
       "      <td>0</td>\n",
       "      <td>0</td>\n",
       "    </tr>\n",
       "    <tr>\n",
       "      <th>676</th>\n",
       "      <td>70</td>\n",
       "      <td>4.0</td>\n",
       "      <td>27.0</td>\n",
       "      <td>3.0</td>\n",
       "      <td>1.0</td>\n",
       "      <td>3.0</td>\n",
       "      <td>0.75</td>\n",
       "      <td>0.0</td>\n",
       "      <td>0.0</td>\n",
       "      <td>0.0</td>\n",
       "      <td>...</td>\n",
       "      <td>?</td>\n",
       "      <td>?</td>\n",
       "      <td>0</td>\n",
       "      <td>0</td>\n",
       "      <td>0</td>\n",
       "      <td>0</td>\n",
       "      <td>0</td>\n",
       "      <td>0</td>\n",
       "      <td>0</td>\n",
       "      <td>0</td>\n",
       "    </tr>\n",
       "    <tr>\n",
       "      <th>822</th>\n",
       "      <td>36</td>\n",
       "      <td>3.0</td>\n",
       "      <td>20.0</td>\n",
       "      <td>2.0</td>\n",
       "      <td>0.0</td>\n",
       "      <td>0.0</td>\n",
       "      <td>0.0</td>\n",
       "      <td>1.0</td>\n",
       "      <td>6.0</td>\n",
       "      <td>0.0</td>\n",
       "      <td>...</td>\n",
       "      <td>16.0</td>\n",
       "      <td>16.0</td>\n",
       "      <td>1</td>\n",
       "      <td>0</td>\n",
       "      <td>1</td>\n",
       "      <td>1</td>\n",
       "      <td>0</td>\n",
       "      <td>0</td>\n",
       "      <td>0</td>\n",
       "      <td>0</td>\n",
       "    </tr>\n",
       "  </tbody>\n",
       "</table>\n",
       "<p>10 rows × 36 columns</p>\n",
       "</div>"
      ],
      "text/plain": [
       "     Age Number of sexual partners First sexual intercourse  \\\n",
       "543   16                       3.0                     14.0   \n",
       "26    39                       5.0                     23.0   \n",
       "256   24                       4.0                     16.0   \n",
       "788   38                       2.0                     19.0   \n",
       "112   30                       3.0                     19.0   \n",
       "619   23                       3.0                     18.0   \n",
       "816   21                       2.0                     19.0   \n",
       "700   28                       1.0                     17.0   \n",
       "676   70                       4.0                     27.0   \n",
       "822   36                       3.0                     20.0   \n",
       "\n",
       "    Num of pregnancies Smokes Smokes (years) Smokes (packs/year)  \\\n",
       "543                2.0    0.0            0.0                 0.0   \n",
       "26                 2.0    0.0            0.0                 0.0   \n",
       "256                1.0    0.0            0.0                 0.0   \n",
       "788                5.0    0.0            0.0                 0.0   \n",
       "112                2.0    0.0            0.0                 0.0   \n",
       "619                4.0    1.0            8.0                 1.2   \n",
       "816                  ?    0.0            0.0                 0.0   \n",
       "700                  ?    0.0            0.0                 0.0   \n",
       "676                3.0    1.0            3.0                0.75   \n",
       "822                2.0    0.0            0.0                 0.0   \n",
       "\n",
       "    Hormonal Contraceptives Hormonal Contraceptives (years)  IUD  ...  \\\n",
       "543                     1.0                             1.0  0.0  ...   \n",
       "26                      0.0                             0.0  1.0  ...   \n",
       "256                       ?                               ?    ?  ...   \n",
       "788                     1.0                            30.0    ?  ...   \n",
       "112                     1.0                             9.0  0.0  ...   \n",
       "619                       ?                               ?    ?  ...   \n",
       "816                     1.0                             0.5    ?  ...   \n",
       "700                       ?                               ?    ?  ...   \n",
       "676                     0.0                             0.0  0.0  ...   \n",
       "822                     1.0                             6.0  0.0  ...   \n",
       "\n",
       "    STDs: Time since first diagnosis STDs: Time since last diagnosis  \\\n",
       "543                                ?                               ?   \n",
       "26                                 ?                               ?   \n",
       "256                                ?                               ?   \n",
       "788                                ?                               ?   \n",
       "112                              9.0                             9.0   \n",
       "619                                ?                               ?   \n",
       "816                                ?                               ?   \n",
       "700                                ?                               ?   \n",
       "676                                ?                               ?   \n",
       "822                             16.0                            16.0   \n",
       "\n",
       "    Dx:Cancer Dx:CIN Dx:HPV Dx Hinselmann Schiller Citology Biopsy  \n",
       "543         0      0      0  0          0        0        0      0  \n",
       "26          0      0      0  0          0        0        0      0  \n",
       "256         0      0      0  0          0        0        0      0  \n",
       "788         0      0      0  0          0        0        1      0  \n",
       "112         0      0      0  0          0        0        0      0  \n",
       "619         0      0      0  0          0        0        0      0  \n",
       "816         0      0      0  0          0        0        0      0  \n",
       "700         0      0      0  0          0        0        0      0  \n",
       "676         0      0      0  0          0        0        0      0  \n",
       "822         1      0      1  1          0        0        0      0  \n",
       "\n",
       "[10 rows x 36 columns]"
      ]
     },
     "execution_count": 42,
     "metadata": {},
     "output_type": "execute_result"
    }
   ],
   "source": [
    "#read the data into a Pandas Dataframe object\n",
    "df= pd.read_csv('risk_factors.csv', sep=',')\n",
    "#return the random 10 rows of datasets\n",
    "df.sample(10)"
   ]
  },
  {
   "cell_type": "code",
   "execution_count": 43,
   "id": "d0741166",
   "metadata": {},
   "outputs": [
    {
     "name": "stdout",
     "output_type": "stream",
     "text": [
      "Unique values in Hinselmann: [0 1]\n",
      "Unique values in Schiller: [0 1]\n",
      "Unique values in Citology: [0 1]\n",
      "Unique values in Biopsy: [0 1]\n"
     ]
    }
   ],
   "source": [
    "#To check the dataset is a classification or regression problem\n",
    "#For each target in this list, it prints out the unique values found in the DataFrame df under the column specified by target.\n",
    "for target in ['Hinselmann', 'Schiller', 'Citology', 'Biopsy']:\n",
    "    print(f\"Unique values in {target}: {df[target].unique()}\")\n"
   ]
  },
  {
   "cell_type": "code",
   "execution_count": 44,
   "id": "b6519a50",
   "metadata": {},
   "outputs": [
    {
     "data": {
      "text/html": [
       "<div>\n",
       "<style scoped>\n",
       "    .dataframe tbody tr th:only-of-type {\n",
       "        vertical-align: middle;\n",
       "    }\n",
       "\n",
       "    .dataframe tbody tr th {\n",
       "        vertical-align: top;\n",
       "    }\n",
       "\n",
       "    .dataframe thead th {\n",
       "        text-align: right;\n",
       "    }\n",
       "</style>\n",
       "<table border=\"1\" class=\"dataframe\">\n",
       "  <thead>\n",
       "    <tr style=\"text-align: right;\">\n",
       "      <th></th>\n",
       "      <th>Age</th>\n",
       "      <th>STDs: Number of diagnosis</th>\n",
       "      <th>Dx:Cancer</th>\n",
       "      <th>Dx:CIN</th>\n",
       "      <th>Dx:HPV</th>\n",
       "      <th>Dx</th>\n",
       "      <th>Hinselmann</th>\n",
       "      <th>Schiller</th>\n",
       "      <th>Citology</th>\n",
       "      <th>Biopsy</th>\n",
       "    </tr>\n",
       "  </thead>\n",
       "  <tbody>\n",
       "    <tr>\n",
       "      <th>count</th>\n",
       "      <td>858.000000</td>\n",
       "      <td>858.000000</td>\n",
       "      <td>858.000000</td>\n",
       "      <td>858.000000</td>\n",
       "      <td>858.000000</td>\n",
       "      <td>858.000000</td>\n",
       "      <td>858.000000</td>\n",
       "      <td>858.000000</td>\n",
       "      <td>858.000000</td>\n",
       "      <td>858.000000</td>\n",
       "    </tr>\n",
       "    <tr>\n",
       "      <th>mean</th>\n",
       "      <td>26.820513</td>\n",
       "      <td>0.087413</td>\n",
       "      <td>0.020979</td>\n",
       "      <td>0.010490</td>\n",
       "      <td>0.020979</td>\n",
       "      <td>0.027972</td>\n",
       "      <td>0.040793</td>\n",
       "      <td>0.086247</td>\n",
       "      <td>0.051282</td>\n",
       "      <td>0.064103</td>\n",
       "    </tr>\n",
       "    <tr>\n",
       "      <th>std</th>\n",
       "      <td>8.497948</td>\n",
       "      <td>0.302545</td>\n",
       "      <td>0.143398</td>\n",
       "      <td>0.101939</td>\n",
       "      <td>0.143398</td>\n",
       "      <td>0.164989</td>\n",
       "      <td>0.197925</td>\n",
       "      <td>0.280892</td>\n",
       "      <td>0.220701</td>\n",
       "      <td>0.245078</td>\n",
       "    </tr>\n",
       "    <tr>\n",
       "      <th>min</th>\n",
       "      <td>13.000000</td>\n",
       "      <td>0.000000</td>\n",
       "      <td>0.000000</td>\n",
       "      <td>0.000000</td>\n",
       "      <td>0.000000</td>\n",
       "      <td>0.000000</td>\n",
       "      <td>0.000000</td>\n",
       "      <td>0.000000</td>\n",
       "      <td>0.000000</td>\n",
       "      <td>0.000000</td>\n",
       "    </tr>\n",
       "    <tr>\n",
       "      <th>25%</th>\n",
       "      <td>20.000000</td>\n",
       "      <td>0.000000</td>\n",
       "      <td>0.000000</td>\n",
       "      <td>0.000000</td>\n",
       "      <td>0.000000</td>\n",
       "      <td>0.000000</td>\n",
       "      <td>0.000000</td>\n",
       "      <td>0.000000</td>\n",
       "      <td>0.000000</td>\n",
       "      <td>0.000000</td>\n",
       "    </tr>\n",
       "    <tr>\n",
       "      <th>50%</th>\n",
       "      <td>25.000000</td>\n",
       "      <td>0.000000</td>\n",
       "      <td>0.000000</td>\n",
       "      <td>0.000000</td>\n",
       "      <td>0.000000</td>\n",
       "      <td>0.000000</td>\n",
       "      <td>0.000000</td>\n",
       "      <td>0.000000</td>\n",
       "      <td>0.000000</td>\n",
       "      <td>0.000000</td>\n",
       "    </tr>\n",
       "    <tr>\n",
       "      <th>75%</th>\n",
       "      <td>32.000000</td>\n",
       "      <td>0.000000</td>\n",
       "      <td>0.000000</td>\n",
       "      <td>0.000000</td>\n",
       "      <td>0.000000</td>\n",
       "      <td>0.000000</td>\n",
       "      <td>0.000000</td>\n",
       "      <td>0.000000</td>\n",
       "      <td>0.000000</td>\n",
       "      <td>0.000000</td>\n",
       "    </tr>\n",
       "    <tr>\n",
       "      <th>max</th>\n",
       "      <td>84.000000</td>\n",
       "      <td>3.000000</td>\n",
       "      <td>1.000000</td>\n",
       "      <td>1.000000</td>\n",
       "      <td>1.000000</td>\n",
       "      <td>1.000000</td>\n",
       "      <td>1.000000</td>\n",
       "      <td>1.000000</td>\n",
       "      <td>1.000000</td>\n",
       "      <td>1.000000</td>\n",
       "    </tr>\n",
       "  </tbody>\n",
       "</table>\n",
       "</div>"
      ],
      "text/plain": [
       "              Age  STDs: Number of diagnosis   Dx:Cancer      Dx:CIN  \\\n",
       "count  858.000000                 858.000000  858.000000  858.000000   \n",
       "mean    26.820513                   0.087413    0.020979    0.010490   \n",
       "std      8.497948                   0.302545    0.143398    0.101939   \n",
       "min     13.000000                   0.000000    0.000000    0.000000   \n",
       "25%     20.000000                   0.000000    0.000000    0.000000   \n",
       "50%     25.000000                   0.000000    0.000000    0.000000   \n",
       "75%     32.000000                   0.000000    0.000000    0.000000   \n",
       "max     84.000000                   3.000000    1.000000    1.000000   \n",
       "\n",
       "           Dx:HPV          Dx  Hinselmann    Schiller    Citology      Biopsy  \n",
       "count  858.000000  858.000000  858.000000  858.000000  858.000000  858.000000  \n",
       "mean     0.020979    0.027972    0.040793    0.086247    0.051282    0.064103  \n",
       "std      0.143398    0.164989    0.197925    0.280892    0.220701    0.245078  \n",
       "min      0.000000    0.000000    0.000000    0.000000    0.000000    0.000000  \n",
       "25%      0.000000    0.000000    0.000000    0.000000    0.000000    0.000000  \n",
       "50%      0.000000    0.000000    0.000000    0.000000    0.000000    0.000000  \n",
       "75%      0.000000    0.000000    0.000000    0.000000    0.000000    0.000000  \n",
       "max      1.000000    1.000000    1.000000    1.000000    1.000000    1.000000  "
      ]
     },
     "execution_count": 44,
     "metadata": {},
     "output_type": "execute_result"
    }
   ],
   "source": [
    "#Display the statistical value of the datasets for each columns\n",
    "df.describe()"
   ]
  },
  {
   "cell_type": "code",
   "execution_count": 45,
   "id": "8a2a2204",
   "metadata": {},
   "outputs": [
    {
     "data": {
      "text/html": [
       "<div>\n",
       "<style scoped>\n",
       "    .dataframe tbody tr th:only-of-type {\n",
       "        vertical-align: middle;\n",
       "    }\n",
       "\n",
       "    .dataframe tbody tr th {\n",
       "        vertical-align: top;\n",
       "    }\n",
       "\n",
       "    .dataframe thead th {\n",
       "        text-align: right;\n",
       "    }\n",
       "</style>\n",
       "<table border=\"1\" class=\"dataframe\">\n",
       "  <thead>\n",
       "    <tr style=\"text-align: right;\">\n",
       "      <th></th>\n",
       "      <th>features</th>\n",
       "    </tr>\n",
       "  </thead>\n",
       "  <tbody>\n",
       "    <tr>\n",
       "      <th>0</th>\n",
       "      <td>Age</td>\n",
       "    </tr>\n",
       "    <tr>\n",
       "      <th>1</th>\n",
       "      <td>Number of sexual partners</td>\n",
       "    </tr>\n",
       "    <tr>\n",
       "      <th>2</th>\n",
       "      <td>First sexual intercourse</td>\n",
       "    </tr>\n",
       "    <tr>\n",
       "      <th>3</th>\n",
       "      <td>Num of pregnancies</td>\n",
       "    </tr>\n",
       "    <tr>\n",
       "      <th>4</th>\n",
       "      <td>Smokes</td>\n",
       "    </tr>\n",
       "    <tr>\n",
       "      <th>5</th>\n",
       "      <td>Smokes (years)</td>\n",
       "    </tr>\n",
       "    <tr>\n",
       "      <th>6</th>\n",
       "      <td>Smokes (packs/year)</td>\n",
       "    </tr>\n",
       "    <tr>\n",
       "      <th>7</th>\n",
       "      <td>Hormonal Contraceptives</td>\n",
       "    </tr>\n",
       "    <tr>\n",
       "      <th>8</th>\n",
       "      <td>Hormonal Contraceptives (years)</td>\n",
       "    </tr>\n",
       "    <tr>\n",
       "      <th>9</th>\n",
       "      <td>IUD</td>\n",
       "    </tr>\n",
       "    <tr>\n",
       "      <th>10</th>\n",
       "      <td>IUD (years)</td>\n",
       "    </tr>\n",
       "    <tr>\n",
       "      <th>11</th>\n",
       "      <td>STDs</td>\n",
       "    </tr>\n",
       "    <tr>\n",
       "      <th>12</th>\n",
       "      <td>STDs (number)</td>\n",
       "    </tr>\n",
       "    <tr>\n",
       "      <th>13</th>\n",
       "      <td>STDs:condylomatosis</td>\n",
       "    </tr>\n",
       "    <tr>\n",
       "      <th>14</th>\n",
       "      <td>STDs:cervical condylomatosis</td>\n",
       "    </tr>\n",
       "    <tr>\n",
       "      <th>15</th>\n",
       "      <td>STDs:vaginal condylomatosis</td>\n",
       "    </tr>\n",
       "    <tr>\n",
       "      <th>16</th>\n",
       "      <td>STDs:vulvo-perineal condylomatosis</td>\n",
       "    </tr>\n",
       "    <tr>\n",
       "      <th>17</th>\n",
       "      <td>STDs:syphilis</td>\n",
       "    </tr>\n",
       "    <tr>\n",
       "      <th>18</th>\n",
       "      <td>STDs:pelvic inflammatory disease</td>\n",
       "    </tr>\n",
       "    <tr>\n",
       "      <th>19</th>\n",
       "      <td>STDs:genital herpes</td>\n",
       "    </tr>\n",
       "    <tr>\n",
       "      <th>20</th>\n",
       "      <td>STDs:molluscum contagiosum</td>\n",
       "    </tr>\n",
       "    <tr>\n",
       "      <th>21</th>\n",
       "      <td>STDs:AIDS</td>\n",
       "    </tr>\n",
       "    <tr>\n",
       "      <th>22</th>\n",
       "      <td>STDs:HIV</td>\n",
       "    </tr>\n",
       "    <tr>\n",
       "      <th>23</th>\n",
       "      <td>STDs:Hepatitis B</td>\n",
       "    </tr>\n",
       "    <tr>\n",
       "      <th>24</th>\n",
       "      <td>STDs:HPV</td>\n",
       "    </tr>\n",
       "    <tr>\n",
       "      <th>25</th>\n",
       "      <td>STDs: Number of diagnosis</td>\n",
       "    </tr>\n",
       "    <tr>\n",
       "      <th>26</th>\n",
       "      <td>STDs: Time since first diagnosis</td>\n",
       "    </tr>\n",
       "    <tr>\n",
       "      <th>27</th>\n",
       "      <td>STDs: Time since last diagnosis</td>\n",
       "    </tr>\n",
       "    <tr>\n",
       "      <th>28</th>\n",
       "      <td>Dx:Cancer</td>\n",
       "    </tr>\n",
       "    <tr>\n",
       "      <th>29</th>\n",
       "      <td>Dx:CIN</td>\n",
       "    </tr>\n",
       "    <tr>\n",
       "      <th>30</th>\n",
       "      <td>Dx:HPV</td>\n",
       "    </tr>\n",
       "    <tr>\n",
       "      <th>31</th>\n",
       "      <td>Dx</td>\n",
       "    </tr>\n",
       "    <tr>\n",
       "      <th>32</th>\n",
       "      <td>Hinselmann</td>\n",
       "    </tr>\n",
       "    <tr>\n",
       "      <th>33</th>\n",
       "      <td>Schiller</td>\n",
       "    </tr>\n",
       "    <tr>\n",
       "      <th>34</th>\n",
       "      <td>Citology</td>\n",
       "    </tr>\n",
       "    <tr>\n",
       "      <th>35</th>\n",
       "      <td>Biopsy</td>\n",
       "    </tr>\n",
       "  </tbody>\n",
       "</table>\n",
       "</div>"
      ],
      "text/plain": [
       "                              features\n",
       "0                                  Age\n",
       "1            Number of sexual partners\n",
       "2             First sexual intercourse\n",
       "3                   Num of pregnancies\n",
       "4                               Smokes\n",
       "5                       Smokes (years)\n",
       "6                  Smokes (packs/year)\n",
       "7              Hormonal Contraceptives\n",
       "8      Hormonal Contraceptives (years)\n",
       "9                                  IUD\n",
       "10                         IUD (years)\n",
       "11                                STDs\n",
       "12                       STDs (number)\n",
       "13                 STDs:condylomatosis\n",
       "14        STDs:cervical condylomatosis\n",
       "15         STDs:vaginal condylomatosis\n",
       "16  STDs:vulvo-perineal condylomatosis\n",
       "17                       STDs:syphilis\n",
       "18    STDs:pelvic inflammatory disease\n",
       "19                 STDs:genital herpes\n",
       "20          STDs:molluscum contagiosum\n",
       "21                           STDs:AIDS\n",
       "22                            STDs:HIV\n",
       "23                    STDs:Hepatitis B\n",
       "24                            STDs:HPV\n",
       "25           STDs: Number of diagnosis\n",
       "26    STDs: Time since first diagnosis\n",
       "27     STDs: Time since last diagnosis\n",
       "28                           Dx:Cancer\n",
       "29                              Dx:CIN\n",
       "30                              Dx:HPV\n",
       "31                                  Dx\n",
       "32                          Hinselmann\n",
       "33                            Schiller\n",
       "34                            Citology\n",
       "35                              Biopsy"
      ]
     },
     "execution_count": 45,
     "metadata": {},
     "output_type": "execute_result"
    }
   ],
   "source": [
    "# Display all the columns of the dataset\n",
    "df_col= pd.DataFrame(df.columns)\n",
    "df_col.columns = ['features']\n",
    "df_col"
   ]
  },
  {
   "cell_type": "code",
   "execution_count": 46,
   "id": "94fb15e3",
   "metadata": {},
   "outputs": [
    {
     "name": "stdout",
     "output_type": "stream",
     "text": [
      "Non-numeric columns: Index(['Number of sexual partners', 'First sexual intercourse',\n",
      "       'Num of pregnancies', 'Smokes', 'Smokes (years)', 'Smokes (packs/year)',\n",
      "       'Hormonal Contraceptives', 'Hormonal Contraceptives (years)', 'IUD',\n",
      "       'IUD (years)', 'STDs', 'STDs (number)', 'STDs:condylomatosis',\n",
      "       'STDs:cervical condylomatosis', 'STDs:vaginal condylomatosis',\n",
      "       'STDs:vulvo-perineal condylomatosis', 'STDs:syphilis',\n",
      "       'STDs:pelvic inflammatory disease', 'STDs:genital herpes',\n",
      "       'STDs:molluscum contagiosum', 'STDs:AIDS', 'STDs:HIV',\n",
      "       'STDs:Hepatitis B', 'STDs:HPV', 'STDs: Time since first diagnosis',\n",
      "       'STDs: Time since last diagnosis'],\n",
      "      dtype='object')\n"
     ]
    }
   ],
   "source": [
    "# Check for column that has non-numeric values in the datasets\n",
    "non_numeric_columns = df.columns[df.apply(lambda col: pd.to_numeric(col, errors='coerce').isna().any())]\n",
    "\n",
    "print(\"Non-numeric columns:\", non_numeric_columns)"
   ]
  },
  {
   "cell_type": "code",
   "execution_count": 47,
   "id": "53d78dfa",
   "metadata": {},
   "outputs": [
    {
     "data": {
      "text/html": [
       "<div>\n",
       "<style scoped>\n",
       "    .dataframe tbody tr th:only-of-type {\n",
       "        vertical-align: middle;\n",
       "    }\n",
       "\n",
       "    .dataframe tbody tr th {\n",
       "        vertical-align: top;\n",
       "    }\n",
       "\n",
       "    .dataframe thead th {\n",
       "        text-align: right;\n",
       "    }\n",
       "</style>\n",
       "<table border=\"1\" class=\"dataframe\">\n",
       "  <thead>\n",
       "    <tr style=\"text-align: right;\">\n",
       "      <th></th>\n",
       "      <th>Age</th>\n",
       "      <th>Number of sexual partners</th>\n",
       "      <th>First sexual intercourse</th>\n",
       "      <th>Num of pregnancies</th>\n",
       "      <th>Smokes</th>\n",
       "      <th>Smokes (years)</th>\n",
       "      <th>Smokes (packs/year)</th>\n",
       "      <th>Hormonal Contraceptives</th>\n",
       "      <th>Hormonal Contraceptives (years)</th>\n",
       "      <th>IUD</th>\n",
       "      <th>...</th>\n",
       "      <th>STDs: Time since first diagnosis</th>\n",
       "      <th>STDs: Time since last diagnosis</th>\n",
       "      <th>Dx:Cancer</th>\n",
       "      <th>Dx:CIN</th>\n",
       "      <th>Dx:HPV</th>\n",
       "      <th>Dx</th>\n",
       "      <th>Hinselmann</th>\n",
       "      <th>Schiller</th>\n",
       "      <th>Citology</th>\n",
       "      <th>Biopsy</th>\n",
       "    </tr>\n",
       "  </thead>\n",
       "  <tbody>\n",
       "    <tr>\n",
       "      <th>0</th>\n",
       "      <td>18</td>\n",
       "      <td>4.0</td>\n",
       "      <td>15.0</td>\n",
       "      <td>1.0</td>\n",
       "      <td>0.0</td>\n",
       "      <td>0.0</td>\n",
       "      <td>0.0</td>\n",
       "      <td>0.0</td>\n",
       "      <td>0.0</td>\n",
       "      <td>0.0</td>\n",
       "      <td>...</td>\n",
       "      <td>NaN</td>\n",
       "      <td>NaN</td>\n",
       "      <td>0</td>\n",
       "      <td>0</td>\n",
       "      <td>0</td>\n",
       "      <td>0</td>\n",
       "      <td>0</td>\n",
       "      <td>0</td>\n",
       "      <td>0</td>\n",
       "      <td>0</td>\n",
       "    </tr>\n",
       "    <tr>\n",
       "      <th>1</th>\n",
       "      <td>15</td>\n",
       "      <td>1.0</td>\n",
       "      <td>14.0</td>\n",
       "      <td>1.0</td>\n",
       "      <td>0.0</td>\n",
       "      <td>0.0</td>\n",
       "      <td>0.0</td>\n",
       "      <td>0.0</td>\n",
       "      <td>0.0</td>\n",
       "      <td>0.0</td>\n",
       "      <td>...</td>\n",
       "      <td>NaN</td>\n",
       "      <td>NaN</td>\n",
       "      <td>0</td>\n",
       "      <td>0</td>\n",
       "      <td>0</td>\n",
       "      <td>0</td>\n",
       "      <td>0</td>\n",
       "      <td>0</td>\n",
       "      <td>0</td>\n",
       "      <td>0</td>\n",
       "    </tr>\n",
       "    <tr>\n",
       "      <th>2</th>\n",
       "      <td>34</td>\n",
       "      <td>1.0</td>\n",
       "      <td>NaN</td>\n",
       "      <td>1.0</td>\n",
       "      <td>0.0</td>\n",
       "      <td>0.0</td>\n",
       "      <td>0.0</td>\n",
       "      <td>0.0</td>\n",
       "      <td>0.0</td>\n",
       "      <td>0.0</td>\n",
       "      <td>...</td>\n",
       "      <td>NaN</td>\n",
       "      <td>NaN</td>\n",
       "      <td>0</td>\n",
       "      <td>0</td>\n",
       "      <td>0</td>\n",
       "      <td>0</td>\n",
       "      <td>0</td>\n",
       "      <td>0</td>\n",
       "      <td>0</td>\n",
       "      <td>0</td>\n",
       "    </tr>\n",
       "    <tr>\n",
       "      <th>3</th>\n",
       "      <td>52</td>\n",
       "      <td>5.0</td>\n",
       "      <td>16.0</td>\n",
       "      <td>4.0</td>\n",
       "      <td>1.0</td>\n",
       "      <td>37.0</td>\n",
       "      <td>37.0</td>\n",
       "      <td>1.0</td>\n",
       "      <td>3.0</td>\n",
       "      <td>0.0</td>\n",
       "      <td>...</td>\n",
       "      <td>NaN</td>\n",
       "      <td>NaN</td>\n",
       "      <td>1</td>\n",
       "      <td>0</td>\n",
       "      <td>1</td>\n",
       "      <td>0</td>\n",
       "      <td>0</td>\n",
       "      <td>0</td>\n",
       "      <td>0</td>\n",
       "      <td>0</td>\n",
       "    </tr>\n",
       "    <tr>\n",
       "      <th>4</th>\n",
       "      <td>46</td>\n",
       "      <td>3.0</td>\n",
       "      <td>21.0</td>\n",
       "      <td>4.0</td>\n",
       "      <td>0.0</td>\n",
       "      <td>0.0</td>\n",
       "      <td>0.0</td>\n",
       "      <td>1.0</td>\n",
       "      <td>15.0</td>\n",
       "      <td>0.0</td>\n",
       "      <td>...</td>\n",
       "      <td>NaN</td>\n",
       "      <td>NaN</td>\n",
       "      <td>0</td>\n",
       "      <td>0</td>\n",
       "      <td>0</td>\n",
       "      <td>0</td>\n",
       "      <td>0</td>\n",
       "      <td>0</td>\n",
       "      <td>0</td>\n",
       "      <td>0</td>\n",
       "    </tr>\n",
       "    <tr>\n",
       "      <th>...</th>\n",
       "      <td>...</td>\n",
       "      <td>...</td>\n",
       "      <td>...</td>\n",
       "      <td>...</td>\n",
       "      <td>...</td>\n",
       "      <td>...</td>\n",
       "      <td>...</td>\n",
       "      <td>...</td>\n",
       "      <td>...</td>\n",
       "      <td>...</td>\n",
       "      <td>...</td>\n",
       "      <td>...</td>\n",
       "      <td>...</td>\n",
       "      <td>...</td>\n",
       "      <td>...</td>\n",
       "      <td>...</td>\n",
       "      <td>...</td>\n",
       "      <td>...</td>\n",
       "      <td>...</td>\n",
       "      <td>...</td>\n",
       "      <td>...</td>\n",
       "    </tr>\n",
       "    <tr>\n",
       "      <th>853</th>\n",
       "      <td>34</td>\n",
       "      <td>3.0</td>\n",
       "      <td>18.0</td>\n",
       "      <td>0.0</td>\n",
       "      <td>0.0</td>\n",
       "      <td>0.0</td>\n",
       "      <td>0.0</td>\n",
       "      <td>0.0</td>\n",
       "      <td>0.0</td>\n",
       "      <td>0.0</td>\n",
       "      <td>...</td>\n",
       "      <td>NaN</td>\n",
       "      <td>NaN</td>\n",
       "      <td>0</td>\n",
       "      <td>0</td>\n",
       "      <td>0</td>\n",
       "      <td>0</td>\n",
       "      <td>0</td>\n",
       "      <td>0</td>\n",
       "      <td>0</td>\n",
       "      <td>0</td>\n",
       "    </tr>\n",
       "    <tr>\n",
       "      <th>854</th>\n",
       "      <td>32</td>\n",
       "      <td>2.0</td>\n",
       "      <td>19.0</td>\n",
       "      <td>1.0</td>\n",
       "      <td>0.0</td>\n",
       "      <td>0.0</td>\n",
       "      <td>0.0</td>\n",
       "      <td>1.0</td>\n",
       "      <td>8.0</td>\n",
       "      <td>0.0</td>\n",
       "      <td>...</td>\n",
       "      <td>NaN</td>\n",
       "      <td>NaN</td>\n",
       "      <td>0</td>\n",
       "      <td>0</td>\n",
       "      <td>0</td>\n",
       "      <td>0</td>\n",
       "      <td>0</td>\n",
       "      <td>0</td>\n",
       "      <td>0</td>\n",
       "      <td>0</td>\n",
       "    </tr>\n",
       "    <tr>\n",
       "      <th>855</th>\n",
       "      <td>25</td>\n",
       "      <td>2.0</td>\n",
       "      <td>17.0</td>\n",
       "      <td>0.0</td>\n",
       "      <td>0.0</td>\n",
       "      <td>0.0</td>\n",
       "      <td>0.0</td>\n",
       "      <td>1.0</td>\n",
       "      <td>0.08</td>\n",
       "      <td>0.0</td>\n",
       "      <td>...</td>\n",
       "      <td>NaN</td>\n",
       "      <td>NaN</td>\n",
       "      <td>0</td>\n",
       "      <td>0</td>\n",
       "      <td>0</td>\n",
       "      <td>0</td>\n",
       "      <td>0</td>\n",
       "      <td>0</td>\n",
       "      <td>1</td>\n",
       "      <td>0</td>\n",
       "    </tr>\n",
       "    <tr>\n",
       "      <th>856</th>\n",
       "      <td>33</td>\n",
       "      <td>2.0</td>\n",
       "      <td>24.0</td>\n",
       "      <td>2.0</td>\n",
       "      <td>0.0</td>\n",
       "      <td>0.0</td>\n",
       "      <td>0.0</td>\n",
       "      <td>1.0</td>\n",
       "      <td>0.08</td>\n",
       "      <td>0.0</td>\n",
       "      <td>...</td>\n",
       "      <td>NaN</td>\n",
       "      <td>NaN</td>\n",
       "      <td>0</td>\n",
       "      <td>0</td>\n",
       "      <td>0</td>\n",
       "      <td>0</td>\n",
       "      <td>0</td>\n",
       "      <td>0</td>\n",
       "      <td>0</td>\n",
       "      <td>0</td>\n",
       "    </tr>\n",
       "    <tr>\n",
       "      <th>857</th>\n",
       "      <td>29</td>\n",
       "      <td>2.0</td>\n",
       "      <td>20.0</td>\n",
       "      <td>1.0</td>\n",
       "      <td>0.0</td>\n",
       "      <td>0.0</td>\n",
       "      <td>0.0</td>\n",
       "      <td>1.0</td>\n",
       "      <td>0.5</td>\n",
       "      <td>0.0</td>\n",
       "      <td>...</td>\n",
       "      <td>NaN</td>\n",
       "      <td>NaN</td>\n",
       "      <td>0</td>\n",
       "      <td>0</td>\n",
       "      <td>0</td>\n",
       "      <td>0</td>\n",
       "      <td>0</td>\n",
       "      <td>0</td>\n",
       "      <td>0</td>\n",
       "      <td>0</td>\n",
       "    </tr>\n",
       "  </tbody>\n",
       "</table>\n",
       "<p>858 rows × 36 columns</p>\n",
       "</div>"
      ],
      "text/plain": [
       "     Age Number of sexual partners First sexual intercourse  \\\n",
       "0     18                       4.0                     15.0   \n",
       "1     15                       1.0                     14.0   \n",
       "2     34                       1.0                      NaN   \n",
       "3     52                       5.0                     16.0   \n",
       "4     46                       3.0                     21.0   \n",
       "..   ...                       ...                      ...   \n",
       "853   34                       3.0                     18.0   \n",
       "854   32                       2.0                     19.0   \n",
       "855   25                       2.0                     17.0   \n",
       "856   33                       2.0                     24.0   \n",
       "857   29                       2.0                     20.0   \n",
       "\n",
       "    Num of pregnancies Smokes Smokes (years) Smokes (packs/year)  \\\n",
       "0                  1.0    0.0            0.0                 0.0   \n",
       "1                  1.0    0.0            0.0                 0.0   \n",
       "2                  1.0    0.0            0.0                 0.0   \n",
       "3                  4.0    1.0           37.0                37.0   \n",
       "4                  4.0    0.0            0.0                 0.0   \n",
       "..                 ...    ...            ...                 ...   \n",
       "853                0.0    0.0            0.0                 0.0   \n",
       "854                1.0    0.0            0.0                 0.0   \n",
       "855                0.0    0.0            0.0                 0.0   \n",
       "856                2.0    0.0            0.0                 0.0   \n",
       "857                1.0    0.0            0.0                 0.0   \n",
       "\n",
       "    Hormonal Contraceptives Hormonal Contraceptives (years)  IUD  ...  \\\n",
       "0                       0.0                             0.0  0.0  ...   \n",
       "1                       0.0                             0.0  0.0  ...   \n",
       "2                       0.0                             0.0  0.0  ...   \n",
       "3                       1.0                             3.0  0.0  ...   \n",
       "4                       1.0                            15.0  0.0  ...   \n",
       "..                      ...                             ...  ...  ...   \n",
       "853                     0.0                             0.0  0.0  ...   \n",
       "854                     1.0                             8.0  0.0  ...   \n",
       "855                     1.0                            0.08  0.0  ...   \n",
       "856                     1.0                            0.08  0.0  ...   \n",
       "857                     1.0                             0.5  0.0  ...   \n",
       "\n",
       "    STDs: Time since first diagnosis STDs: Time since last diagnosis  \\\n",
       "0                                NaN                             NaN   \n",
       "1                                NaN                             NaN   \n",
       "2                                NaN                             NaN   \n",
       "3                                NaN                             NaN   \n",
       "4                                NaN                             NaN   \n",
       "..                               ...                             ...   \n",
       "853                              NaN                             NaN   \n",
       "854                              NaN                             NaN   \n",
       "855                              NaN                             NaN   \n",
       "856                              NaN                             NaN   \n",
       "857                              NaN                             NaN   \n",
       "\n",
       "    Dx:Cancer Dx:CIN Dx:HPV Dx Hinselmann Schiller Citology Biopsy  \n",
       "0           0      0      0  0          0        0        0      0  \n",
       "1           0      0      0  0          0        0        0      0  \n",
       "2           0      0      0  0          0        0        0      0  \n",
       "3           1      0      1  0          0        0        0      0  \n",
       "4           0      0      0  0          0        0        0      0  \n",
       "..        ...    ...    ... ..        ...      ...      ...    ...  \n",
       "853         0      0      0  0          0        0        0      0  \n",
       "854         0      0      0  0          0        0        0      0  \n",
       "855         0      0      0  0          0        0        1      0  \n",
       "856         0      0      0  0          0        0        0      0  \n",
       "857         0      0      0  0          0        0        0      0  \n",
       "\n",
       "[858 rows x 36 columns]"
      ]
     },
     "execution_count": 47,
     "metadata": {},
     "output_type": "execute_result"
    }
   ],
   "source": [
    "##replace '?' with NaN values\n",
    "df.replace('?', np.nan, inplace=True)\n",
    "df"
   ]
  },
  {
   "cell_type": "code",
   "execution_count": 48,
   "id": "e3cc3ba8",
   "metadata": {},
   "outputs": [
    {
     "data": {
      "text/plain": [
       "Age                                     0\n",
       "Number of sexual partners              26\n",
       "First sexual intercourse                7\n",
       "Num of pregnancies                     56\n",
       "Smokes                                 13\n",
       "Smokes (years)                         13\n",
       "Smokes (packs/year)                    13\n",
       "Hormonal Contraceptives               108\n",
       "Hormonal Contraceptives (years)       108\n",
       "IUD                                   117\n",
       "IUD (years)                           117\n",
       "STDs                                  105\n",
       "STDs (number)                         105\n",
       "STDs:condylomatosis                   105\n",
       "STDs:cervical condylomatosis          105\n",
       "STDs:vaginal condylomatosis           105\n",
       "STDs:vulvo-perineal condylomatosis    105\n",
       "STDs:syphilis                         105\n",
       "STDs:pelvic inflammatory disease      105\n",
       "STDs:genital herpes                   105\n",
       "STDs:molluscum contagiosum            105\n",
       "STDs:AIDS                             105\n",
       "STDs:HIV                              105\n",
       "STDs:Hepatitis B                      105\n",
       "STDs:HPV                              105\n",
       "STDs: Number of diagnosis               0\n",
       "STDs: Time since first diagnosis      787\n",
       "STDs: Time since last diagnosis       787\n",
       "Dx:Cancer                               0\n",
       "Dx:CIN                                  0\n",
       "Dx:HPV                                  0\n",
       "Dx                                      0\n",
       "Hinselmann                              0\n",
       "Schiller                                0\n",
       "Citology                                0\n",
       "Biopsy                                  0\n",
       "dtype: int64"
      ]
     },
     "execution_count": 48,
     "metadata": {},
     "output_type": "execute_result"
    }
   ],
   "source": [
    "#Check the number of null value for each column in the dataset\n",
    "df.apply(lambda x: sum(x.isnull()),axis=0)"
   ]
  },
  {
   "cell_type": "code",
   "execution_count": 49,
   "id": "b94fbb1f",
   "metadata": {},
   "outputs": [
    {
     "data": {
      "text/html": [
       "<div>\n",
       "<style scoped>\n",
       "    .dataframe tbody tr th:only-of-type {\n",
       "        vertical-align: middle;\n",
       "    }\n",
       "\n",
       "    .dataframe tbody tr th {\n",
       "        vertical-align: top;\n",
       "    }\n",
       "\n",
       "    .dataframe thead th {\n",
       "        text-align: right;\n",
       "    }\n",
       "</style>\n",
       "<table border=\"1\" class=\"dataframe\">\n",
       "  <thead>\n",
       "    <tr style=\"text-align: right;\">\n",
       "      <th></th>\n",
       "      <th>Age</th>\n",
       "      <th>Number of sexual partners</th>\n",
       "      <th>First sexual intercourse</th>\n",
       "      <th>Num of pregnancies</th>\n",
       "      <th>Smokes</th>\n",
       "      <th>Smokes (years)</th>\n",
       "      <th>Smokes (packs/year)</th>\n",
       "      <th>Hormonal Contraceptives</th>\n",
       "      <th>Hormonal Contraceptives (years)</th>\n",
       "      <th>IUD</th>\n",
       "      <th>...</th>\n",
       "      <th>STDs:HPV</th>\n",
       "      <th>STDs: Number of diagnosis</th>\n",
       "      <th>Dx:Cancer</th>\n",
       "      <th>Dx:CIN</th>\n",
       "      <th>Dx:HPV</th>\n",
       "      <th>Dx</th>\n",
       "      <th>Hinselmann</th>\n",
       "      <th>Schiller</th>\n",
       "      <th>Citology</th>\n",
       "      <th>Biopsy</th>\n",
       "    </tr>\n",
       "  </thead>\n",
       "  <tbody>\n",
       "    <tr>\n",
       "      <th>0</th>\n",
       "      <td>18</td>\n",
       "      <td>4.0</td>\n",
       "      <td>15.0</td>\n",
       "      <td>1.0</td>\n",
       "      <td>0.0</td>\n",
       "      <td>0.0</td>\n",
       "      <td>0.0</td>\n",
       "      <td>0.0</td>\n",
       "      <td>0.0</td>\n",
       "      <td>0.0</td>\n",
       "      <td>...</td>\n",
       "      <td>0.0</td>\n",
       "      <td>0</td>\n",
       "      <td>0</td>\n",
       "      <td>0</td>\n",
       "      <td>0</td>\n",
       "      <td>0</td>\n",
       "      <td>0</td>\n",
       "      <td>0</td>\n",
       "      <td>0</td>\n",
       "      <td>0</td>\n",
       "    </tr>\n",
       "    <tr>\n",
       "      <th>1</th>\n",
       "      <td>15</td>\n",
       "      <td>1.0</td>\n",
       "      <td>14.0</td>\n",
       "      <td>1.0</td>\n",
       "      <td>0.0</td>\n",
       "      <td>0.0</td>\n",
       "      <td>0.0</td>\n",
       "      <td>0.0</td>\n",
       "      <td>0.0</td>\n",
       "      <td>0.0</td>\n",
       "      <td>...</td>\n",
       "      <td>0.0</td>\n",
       "      <td>0</td>\n",
       "      <td>0</td>\n",
       "      <td>0</td>\n",
       "      <td>0</td>\n",
       "      <td>0</td>\n",
       "      <td>0</td>\n",
       "      <td>0</td>\n",
       "      <td>0</td>\n",
       "      <td>0</td>\n",
       "    </tr>\n",
       "    <tr>\n",
       "      <th>2</th>\n",
       "      <td>34</td>\n",
       "      <td>1.0</td>\n",
       "      <td>NaN</td>\n",
       "      <td>1.0</td>\n",
       "      <td>0.0</td>\n",
       "      <td>0.0</td>\n",
       "      <td>0.0</td>\n",
       "      <td>0.0</td>\n",
       "      <td>0.0</td>\n",
       "      <td>0.0</td>\n",
       "      <td>...</td>\n",
       "      <td>0.0</td>\n",
       "      <td>0</td>\n",
       "      <td>0</td>\n",
       "      <td>0</td>\n",
       "      <td>0</td>\n",
       "      <td>0</td>\n",
       "      <td>0</td>\n",
       "      <td>0</td>\n",
       "      <td>0</td>\n",
       "      <td>0</td>\n",
       "    </tr>\n",
       "    <tr>\n",
       "      <th>3</th>\n",
       "      <td>52</td>\n",
       "      <td>5.0</td>\n",
       "      <td>16.0</td>\n",
       "      <td>4.0</td>\n",
       "      <td>1.0</td>\n",
       "      <td>37.0</td>\n",
       "      <td>37.0</td>\n",
       "      <td>1.0</td>\n",
       "      <td>3.0</td>\n",
       "      <td>0.0</td>\n",
       "      <td>...</td>\n",
       "      <td>0.0</td>\n",
       "      <td>0</td>\n",
       "      <td>1</td>\n",
       "      <td>0</td>\n",
       "      <td>1</td>\n",
       "      <td>0</td>\n",
       "      <td>0</td>\n",
       "      <td>0</td>\n",
       "      <td>0</td>\n",
       "      <td>0</td>\n",
       "    </tr>\n",
       "    <tr>\n",
       "      <th>4</th>\n",
       "      <td>46</td>\n",
       "      <td>3.0</td>\n",
       "      <td>21.0</td>\n",
       "      <td>4.0</td>\n",
       "      <td>0.0</td>\n",
       "      <td>0.0</td>\n",
       "      <td>0.0</td>\n",
       "      <td>1.0</td>\n",
       "      <td>15.0</td>\n",
       "      <td>0.0</td>\n",
       "      <td>...</td>\n",
       "      <td>0.0</td>\n",
       "      <td>0</td>\n",
       "      <td>0</td>\n",
       "      <td>0</td>\n",
       "      <td>0</td>\n",
       "      <td>0</td>\n",
       "      <td>0</td>\n",
       "      <td>0</td>\n",
       "      <td>0</td>\n",
       "      <td>0</td>\n",
       "    </tr>\n",
       "    <tr>\n",
       "      <th>...</th>\n",
       "      <td>...</td>\n",
       "      <td>...</td>\n",
       "      <td>...</td>\n",
       "      <td>...</td>\n",
       "      <td>...</td>\n",
       "      <td>...</td>\n",
       "      <td>...</td>\n",
       "      <td>...</td>\n",
       "      <td>...</td>\n",
       "      <td>...</td>\n",
       "      <td>...</td>\n",
       "      <td>...</td>\n",
       "      <td>...</td>\n",
       "      <td>...</td>\n",
       "      <td>...</td>\n",
       "      <td>...</td>\n",
       "      <td>...</td>\n",
       "      <td>...</td>\n",
       "      <td>...</td>\n",
       "      <td>...</td>\n",
       "      <td>...</td>\n",
       "    </tr>\n",
       "    <tr>\n",
       "      <th>853</th>\n",
       "      <td>34</td>\n",
       "      <td>3.0</td>\n",
       "      <td>18.0</td>\n",
       "      <td>0.0</td>\n",
       "      <td>0.0</td>\n",
       "      <td>0.0</td>\n",
       "      <td>0.0</td>\n",
       "      <td>0.0</td>\n",
       "      <td>0.0</td>\n",
       "      <td>0.0</td>\n",
       "      <td>...</td>\n",
       "      <td>0.0</td>\n",
       "      <td>0</td>\n",
       "      <td>0</td>\n",
       "      <td>0</td>\n",
       "      <td>0</td>\n",
       "      <td>0</td>\n",
       "      <td>0</td>\n",
       "      <td>0</td>\n",
       "      <td>0</td>\n",
       "      <td>0</td>\n",
       "    </tr>\n",
       "    <tr>\n",
       "      <th>854</th>\n",
       "      <td>32</td>\n",
       "      <td>2.0</td>\n",
       "      <td>19.0</td>\n",
       "      <td>1.0</td>\n",
       "      <td>0.0</td>\n",
       "      <td>0.0</td>\n",
       "      <td>0.0</td>\n",
       "      <td>1.0</td>\n",
       "      <td>8.0</td>\n",
       "      <td>0.0</td>\n",
       "      <td>...</td>\n",
       "      <td>0.0</td>\n",
       "      <td>0</td>\n",
       "      <td>0</td>\n",
       "      <td>0</td>\n",
       "      <td>0</td>\n",
       "      <td>0</td>\n",
       "      <td>0</td>\n",
       "      <td>0</td>\n",
       "      <td>0</td>\n",
       "      <td>0</td>\n",
       "    </tr>\n",
       "    <tr>\n",
       "      <th>855</th>\n",
       "      <td>25</td>\n",
       "      <td>2.0</td>\n",
       "      <td>17.0</td>\n",
       "      <td>0.0</td>\n",
       "      <td>0.0</td>\n",
       "      <td>0.0</td>\n",
       "      <td>0.0</td>\n",
       "      <td>1.0</td>\n",
       "      <td>0.08</td>\n",
       "      <td>0.0</td>\n",
       "      <td>...</td>\n",
       "      <td>0.0</td>\n",
       "      <td>0</td>\n",
       "      <td>0</td>\n",
       "      <td>0</td>\n",
       "      <td>0</td>\n",
       "      <td>0</td>\n",
       "      <td>0</td>\n",
       "      <td>0</td>\n",
       "      <td>1</td>\n",
       "      <td>0</td>\n",
       "    </tr>\n",
       "    <tr>\n",
       "      <th>856</th>\n",
       "      <td>33</td>\n",
       "      <td>2.0</td>\n",
       "      <td>24.0</td>\n",
       "      <td>2.0</td>\n",
       "      <td>0.0</td>\n",
       "      <td>0.0</td>\n",
       "      <td>0.0</td>\n",
       "      <td>1.0</td>\n",
       "      <td>0.08</td>\n",
       "      <td>0.0</td>\n",
       "      <td>...</td>\n",
       "      <td>0.0</td>\n",
       "      <td>0</td>\n",
       "      <td>0</td>\n",
       "      <td>0</td>\n",
       "      <td>0</td>\n",
       "      <td>0</td>\n",
       "      <td>0</td>\n",
       "      <td>0</td>\n",
       "      <td>0</td>\n",
       "      <td>0</td>\n",
       "    </tr>\n",
       "    <tr>\n",
       "      <th>857</th>\n",
       "      <td>29</td>\n",
       "      <td>2.0</td>\n",
       "      <td>20.0</td>\n",
       "      <td>1.0</td>\n",
       "      <td>0.0</td>\n",
       "      <td>0.0</td>\n",
       "      <td>0.0</td>\n",
       "      <td>1.0</td>\n",
       "      <td>0.5</td>\n",
       "      <td>0.0</td>\n",
       "      <td>...</td>\n",
       "      <td>0.0</td>\n",
       "      <td>0</td>\n",
       "      <td>0</td>\n",
       "      <td>0</td>\n",
       "      <td>0</td>\n",
       "      <td>0</td>\n",
       "      <td>0</td>\n",
       "      <td>0</td>\n",
       "      <td>0</td>\n",
       "      <td>0</td>\n",
       "    </tr>\n",
       "  </tbody>\n",
       "</table>\n",
       "<p>858 rows × 34 columns</p>\n",
       "</div>"
      ],
      "text/plain": [
       "     Age Number of sexual partners First sexual intercourse  \\\n",
       "0     18                       4.0                     15.0   \n",
       "1     15                       1.0                     14.0   \n",
       "2     34                       1.0                      NaN   \n",
       "3     52                       5.0                     16.0   \n",
       "4     46                       3.0                     21.0   \n",
       "..   ...                       ...                      ...   \n",
       "853   34                       3.0                     18.0   \n",
       "854   32                       2.0                     19.0   \n",
       "855   25                       2.0                     17.0   \n",
       "856   33                       2.0                     24.0   \n",
       "857   29                       2.0                     20.0   \n",
       "\n",
       "    Num of pregnancies Smokes Smokes (years) Smokes (packs/year)  \\\n",
       "0                  1.0    0.0            0.0                 0.0   \n",
       "1                  1.0    0.0            0.0                 0.0   \n",
       "2                  1.0    0.0            0.0                 0.0   \n",
       "3                  4.0    1.0           37.0                37.0   \n",
       "4                  4.0    0.0            0.0                 0.0   \n",
       "..                 ...    ...            ...                 ...   \n",
       "853                0.0    0.0            0.0                 0.0   \n",
       "854                1.0    0.0            0.0                 0.0   \n",
       "855                0.0    0.0            0.0                 0.0   \n",
       "856                2.0    0.0            0.0                 0.0   \n",
       "857                1.0    0.0            0.0                 0.0   \n",
       "\n",
       "    Hormonal Contraceptives Hormonal Contraceptives (years)  IUD  ...  \\\n",
       "0                       0.0                             0.0  0.0  ...   \n",
       "1                       0.0                             0.0  0.0  ...   \n",
       "2                       0.0                             0.0  0.0  ...   \n",
       "3                       1.0                             3.0  0.0  ...   \n",
       "4                       1.0                            15.0  0.0  ...   \n",
       "..                      ...                             ...  ...  ...   \n",
       "853                     0.0                             0.0  0.0  ...   \n",
       "854                     1.0                             8.0  0.0  ...   \n",
       "855                     1.0                            0.08  0.0  ...   \n",
       "856                     1.0                            0.08  0.0  ...   \n",
       "857                     1.0                             0.5  0.0  ...   \n",
       "\n",
       "    STDs:HPV STDs: Number of diagnosis Dx:Cancer Dx:CIN Dx:HPV Dx Hinselmann  \\\n",
       "0        0.0                         0         0      0      0  0          0   \n",
       "1        0.0                         0         0      0      0  0          0   \n",
       "2        0.0                         0         0      0      0  0          0   \n",
       "3        0.0                         0         1      0      1  0          0   \n",
       "4        0.0                         0         0      0      0  0          0   \n",
       "..       ...                       ...       ...    ...    ... ..        ...   \n",
       "853      0.0                         0         0      0      0  0          0   \n",
       "854      0.0                         0         0      0      0  0          0   \n",
       "855      0.0                         0         0      0      0  0          0   \n",
       "856      0.0                         0         0      0      0  0          0   \n",
       "857      0.0                         0         0      0      0  0          0   \n",
       "\n",
       "    Schiller Citology Biopsy  \n",
       "0          0        0      0  \n",
       "1          0        0      0  \n",
       "2          0        0      0  \n",
       "3          0        0      0  \n",
       "4          0        0      0  \n",
       "..       ...      ...    ...  \n",
       "853        0        0      0  \n",
       "854        0        0      0  \n",
       "855        0        1      0  \n",
       "856        0        0      0  \n",
       "857        0        0      0  \n",
       "\n",
       "[858 rows x 34 columns]"
      ]
     },
     "execution_count": 49,
     "metadata": {},
     "output_type": "execute_result"
    }
   ],
   "source": [
    "#Drop columns STDs: Time since first diagnosis and STDs: Time since last diagnosis\n",
    "#To ensure the model stability and performance, we drop these columns because it contains a lot of NaN values.\n",
    "df= df.drop(['STDs: Time since first diagnosis', 'STDs: Time since last diagnosis'], axis=1)\n",
    "df"
   ]
  },
  {
   "cell_type": "markdown",
   "id": "4a4dfd7b",
   "metadata": {},
   "source": [
    "**Handling Missing Value**"
   ]
  },
  {
   "cell_type": "code",
   "execution_count": 50,
   "id": "5ec1bd4a",
   "metadata": {},
   "outputs": [],
   "source": [
    "# List categorical column contains missing value to replace the missing value with the mode.\n",
    "cat_columns = [\n",
    "    'Smokes',\n",
    "    'Hormonal Contraceptives',\n",
    "    'IUD',\n",
    "    'STDs',\n",
    "    'STDs:condylomatosis',\n",
    "    'STDs:cervical condylomatosis',\n",
    "    'STDs:vaginal condylomatosis',\n",
    "    'STDs:vulvo-perineal condylomatosis',\n",
    "    'STDs:syphilis',\n",
    "    'STDs:pelvic inflammatory disease',\n",
    "    'STDs:genital herpes',\n",
    "    'STDs:molluscum contagiosum',\n",
    "    'STDs:AIDS',\n",
    "    'STDs:HIV',\n",
    "    'STDs:Hepatitis B',\n",
    "    'STDs:HPV'\n",
    "]\n",
    "\n",
    "# Replace categorical columns with mode\n",
    "for column in cat_columns:\n",
    "    mode_value = df[column].mode()[0]\n",
    "    df[column].fillna(mode_value, inplace=True)"
   ]
  },
  {
   "cell_type": "code",
   "execution_count": 51,
   "id": "d2eee60c",
   "metadata": {},
   "outputs": [
    {
     "name": "stdout",
     "output_type": "stream",
     "text": [
      "Smokes                                0\n",
      "Hormonal Contraceptives               0\n",
      "IUD                                   0\n",
      "STDs                                  0\n",
      "STDs:condylomatosis                   0\n",
      "STDs:cervical condylomatosis          0\n",
      "STDs:vaginal condylomatosis           0\n",
      "STDs:vulvo-perineal condylomatosis    0\n",
      "STDs:syphilis                         0\n",
      "STDs:pelvic inflammatory disease      0\n",
      "STDs:genital herpes                   0\n",
      "STDs:molluscum contagiosum            0\n",
      "STDs:AIDS                             0\n",
      "STDs:HIV                              0\n",
      "STDs:Hepatitis B                      0\n",
      "STDs:HPV                              0\n",
      "dtype: int64\n"
     ]
    }
   ],
   "source": [
    "# To ensure no missing value in the corresponding categorical column.\n",
    "print(df[cat_columns].isna().sum())"
   ]
  },
  {
   "cell_type": "code",
   "execution_count": 52,
   "id": "e84e5912",
   "metadata": {},
   "outputs": [],
   "source": [
    "# List numerical column contains missing value to replace the missing value with the mean\n",
    "numeric_columns = [\n",
    "    'Number of sexual partners',\n",
    "    'First sexual intercourse',\n",
    "    'Num of pregnancies',\n",
    "    'Smokes (years)',\n",
    "    'STDs (number)',\n",
    "    'Hormonal Contraceptives (years)',\n",
    "    'IUD (years)',\n",
    "    'Smokes (packs/year)',\n",
    "]\n",
    "\n",
    "# Convert columns to numeric (errors='coerce' converts non-numeric values to NaN)\n",
    "df[numeric_columns] = df[numeric_columns].apply(pd.to_numeric, errors='coerce')\n",
    "\n",
    "# Replace numerical columns with mean.\n",
    "for column in numeric_columns:\n",
    "    df[column].fillna(df[column].mean(), inplace=True)"
   ]
  },
  {
   "cell_type": "code",
   "execution_count": 53,
   "id": "9ea1b928",
   "metadata": {},
   "outputs": [
    {
     "name": "stdout",
     "output_type": "stream",
     "text": [
      "Number of sexual partners          0\n",
      "First sexual intercourse           0\n",
      "Num of pregnancies                 0\n",
      "Smokes (years)                     0\n",
      "STDs (number)                      0\n",
      "Hormonal Contraceptives (years)    0\n",
      "IUD (years)                        0\n",
      "Smokes (packs/year)                0\n",
      "dtype: int64\n"
     ]
    }
   ],
   "source": [
    "# To ensure no missing value in the corresponding numerical column.\n",
    "print(df[numeric_columns].isna().sum())"
   ]
  },
  {
   "cell_type": "code",
   "execution_count": 54,
   "id": "c95d3ca4",
   "metadata": {},
   "outputs": [
    {
     "data": {
      "text/plain": [
       "Age                                   0\n",
       "Number of sexual partners             0\n",
       "First sexual intercourse              0\n",
       "Num of pregnancies                    0\n",
       "Smokes                                0\n",
       "Smokes (years)                        0\n",
       "Smokes (packs/year)                   0\n",
       "Hormonal Contraceptives               0\n",
       "Hormonal Contraceptives (years)       0\n",
       "IUD                                   0\n",
       "IUD (years)                           0\n",
       "STDs                                  0\n",
       "STDs (number)                         0\n",
       "STDs:condylomatosis                   0\n",
       "STDs:cervical condylomatosis          0\n",
       "STDs:vaginal condylomatosis           0\n",
       "STDs:vulvo-perineal condylomatosis    0\n",
       "STDs:syphilis                         0\n",
       "STDs:pelvic inflammatory disease      0\n",
       "STDs:genital herpes                   0\n",
       "STDs:molluscum contagiosum            0\n",
       "STDs:AIDS                             0\n",
       "STDs:HIV                              0\n",
       "STDs:Hepatitis B                      0\n",
       "STDs:HPV                              0\n",
       "STDs: Number of diagnosis             0\n",
       "Dx:Cancer                             0\n",
       "Dx:CIN                                0\n",
       "Dx:HPV                                0\n",
       "Dx                                    0\n",
       "Hinselmann                            0\n",
       "Schiller                              0\n",
       "Citology                              0\n",
       "Biopsy                                0\n",
       "dtype: int64"
      ]
     },
     "execution_count": 54,
     "metadata": {},
     "output_type": "execute_result"
    }
   ],
   "source": [
    "#Check the number of null value for each column in the dataset\n",
    "df.apply(lambda x: sum(x.isnull()),axis=0)"
   ]
  },
  {
   "cell_type": "markdown",
   "id": "5b01f375",
   "metadata": {},
   "source": [
    "#### Split the dataset\n",
    "Split the dataset into training, validation and test sets."
   ]
  },
  {
   "cell_type": "code",
   "execution_count": 55,
   "id": "e70fd397",
   "metadata": {},
   "outputs": [
    {
     "data": {
      "text/plain": [
       "(858, 34)"
      ]
     },
     "execution_count": 55,
     "metadata": {},
     "output_type": "execute_result"
    }
   ],
   "source": [
    "#Size of datasets, 858 instances and 30 features, 4 target variable\n",
    "df.shape"
   ]
  },
  {
   "cell_type": "code",
   "execution_count": 56,
   "id": "ffd6375f",
   "metadata": {},
   "outputs": [
    {
     "name": "stdout",
     "output_type": "stream",
     "text": [
      "(600, 30)\n",
      "(600, 4)\n",
      "(86, 30)\n",
      "(86, 4)\n",
      "(172, 30)\n",
      "(172, 4)\n"
     ]
    }
   ],
   "source": [
    "from sklearn.model_selection import train_test_split\n",
    "\n",
    "#x is features variable and y is target variable\n",
    "y = df[['Hinselmann', 'Schiller', 'Citology', 'Biopsy']] #assigning the 'Hinselmann', 'Schiller', 'Citology', 'Biopsy' column of DataFrame as target variable, y\n",
    "X = df.drop(columns=['Hinselmann', 'Schiller', 'Citology', 'Biopsy']) #assigning all columns of DataFrame label as features variables, X\n",
    "\n",
    "seed_num = 42   #set a random seed for reproductibility\n",
    "#split data into 70% as training data and 30% as temporary sets\n",
    "#futher splitting the temporary data into validation and testing sets, \n",
    "#so that validation sets is 10% of original datasets and training setst is 20% of original datasets\n",
    "X_train, X_temp, y_train, y_temp = train_test_split(X, y, test_size=0.3,random_state=seed_num)\n",
    "X_test, X_val, y_test, y_val = train_test_split(X_temp, y_temp,test_size=1/3, random_state=seed_num)\n",
    "\n",
    "print(X_train.shape)     \n",
    "print(y_train.shape)     \n",
    "print(X_val.shape)       \n",
    "print(y_val.shape)       \n",
    "print(X_test.shape)      \n",
    "print(y_test.shape)      "
   ]
  },
  {
   "cell_type": "code",
   "execution_count": 57,
   "id": "bc32044d",
   "metadata": {},
   "outputs": [
    {
     "name": "stdout",
     "output_type": "stream",
     "text": [
      "Training Set Size: 600\n",
      "Validation Set Size: 86\n",
      "Test Set Size: 172\n"
     ]
    }
   ],
   "source": [
    "# Display size for training, validation and test. \n",
    "print(\"Training Set Size:\", len(X_train))\n",
    "print(\"Validation Set Size:\", len(X_val))\n",
    "print(\"Test Set Size:\", len(X_test))"
   ]
  },
  {
   "cell_type": "markdown",
   "id": "ae9d8745",
   "metadata": {},
   "source": [
    "#### Data preprocessing\n",
    "\n",
    "Description: We perform normalization on numerical features to scale the features to specific range, between 0 and 1. This will make data modelling process work better with data that have similar scale. Since our datasets do not contain categorical variables so we do not perform label encoding."
   ]
  },
  {
   "cell_type": "code",
   "execution_count": 58,
   "id": "fdb57c4b",
   "metadata": {},
   "outputs": [
    {
     "name": "stdout",
     "output_type": "stream",
     "text": [
      "Scaled Training Set Size: (600, 30)\n",
      "Scaled Validation Set Size: (86, 30)\n",
      "Scaled Test Set Size: (172, 30)\n"
     ]
    }
   ],
   "source": [
    "from sklearn.preprocessing import MinMaxScaler\n",
    "scaler = MinMaxScaler()\n",
    "X_train_scaled = scaler.fit_transform(X_train)    #scale the training dataset\n",
    "X_val_scaled = scaler.transform(X_val)            #scale the validation dataset\n",
    "X_test_scaled = scaler.transform(X_test)          #scale the testing dataset\n",
    "\n",
    "# Display the sizes of the resulting sets (Optional)\n",
    "print(\"Scaled Training Set Size:\", X_train_scaled.shape)\n",
    "print(\"Scaled Validation Set Size:\", X_val_scaled.shape)\n",
    "print(\"Scaled Test Set Size:\", X_test_scaled.shape)"
   ]
  },
  {
   "cell_type": "markdown",
   "id": "5335eef0",
   "metadata": {},
   "source": [
    "#### Feature Selection\n",
    "\n",
    "Description: To select the most relevant features, we perform Univariate Feature Selection method on the datasets. It will calculate the score for each features, X. We select the top 10 features that have highest score. Then we transform for each splitted datasets with the selected features and assign each of them as X_train_selected, X_test_selected and X_val_selected."
   ]
  },
  {
   "cell_type": "code",
   "execution_count": 59,
   "id": "7e83023f",
   "metadata": {},
   "outputs": [
    {
     "data": {
      "text/html": [
       "<div>\n",
       "<style scoped>\n",
       "    .dataframe tbody tr th:only-of-type {\n",
       "        vertical-align: middle;\n",
       "    }\n",
       "\n",
       "    .dataframe tbody tr th {\n",
       "        vertical-align: top;\n",
       "    }\n",
       "\n",
       "    .dataframe thead th {\n",
       "        text-align: right;\n",
       "    }\n",
       "</style>\n",
       "<table border=\"1\" class=\"dataframe\">\n",
       "  <thead>\n",
       "    <tr style=\"text-align: right;\">\n",
       "      <th></th>\n",
       "      <th>0</th>\n",
       "    </tr>\n",
       "  </thead>\n",
       "  <tbody>\n",
       "    <tr>\n",
       "      <th>0</th>\n",
       "      <td>12.794631</td>\n",
       "    </tr>\n",
       "    <tr>\n",
       "      <th>1</th>\n",
       "      <td>0.830441</td>\n",
       "    </tr>\n",
       "    <tr>\n",
       "      <th>2</th>\n",
       "      <td>0.317354</td>\n",
       "    </tr>\n",
       "    <tr>\n",
       "      <th>3</th>\n",
       "      <td>4.019180</td>\n",
       "    </tr>\n",
       "    <tr>\n",
       "      <th>4</th>\n",
       "      <td>0.663767</td>\n",
       "    </tr>\n",
       "    <tr>\n",
       "      <th>5</th>\n",
       "      <td>37.517430</td>\n",
       "    </tr>\n",
       "    <tr>\n",
       "      <th>6</th>\n",
       "      <td>16.119424</td>\n",
       "    </tr>\n",
       "    <tr>\n",
       "      <th>7</th>\n",
       "      <td>0.688492</td>\n",
       "    </tr>\n",
       "    <tr>\n",
       "      <th>8</th>\n",
       "      <td>19.698670</td>\n",
       "    </tr>\n",
       "    <tr>\n",
       "      <th>9</th>\n",
       "      <td>6.461688</td>\n",
       "    </tr>\n",
       "    <tr>\n",
       "      <th>10</th>\n",
       "      <td>14.524142</td>\n",
       "    </tr>\n",
       "    <tr>\n",
       "      <th>11</th>\n",
       "      <td>11.952522</td>\n",
       "    </tr>\n",
       "    <tr>\n",
       "      <th>12</th>\n",
       "      <td>26.523799</td>\n",
       "    </tr>\n",
       "    <tr>\n",
       "      <th>13</th>\n",
       "      <td>18.114754</td>\n",
       "    </tr>\n",
       "    <tr>\n",
       "      <th>14</th>\n",
       "      <td>NaN</td>\n",
       "    </tr>\n",
       "    <tr>\n",
       "      <th>15</th>\n",
       "      <td>0.770000</td>\n",
       "    </tr>\n",
       "    <tr>\n",
       "      <th>16</th>\n",
       "      <td>19.415302</td>\n",
       "    </tr>\n",
       "    <tr>\n",
       "      <th>17</th>\n",
       "      <td>2.204717</td>\n",
       "    </tr>\n",
       "    <tr>\n",
       "      <th>18</th>\n",
       "      <td>0.256667</td>\n",
       "    </tr>\n",
       "    <tr>\n",
       "      <th>19</th>\n",
       "      <td>13.256667</td>\n",
       "    </tr>\n",
       "    <tr>\n",
       "      <th>20</th>\n",
       "      <td>0.256667</td>\n",
       "    </tr>\n",
       "    <tr>\n",
       "      <th>21</th>\n",
       "      <td>NaN</td>\n",
       "    </tr>\n",
       "    <tr>\n",
       "      <th>22</th>\n",
       "      <td>18.813229</td>\n",
       "    </tr>\n",
       "    <tr>\n",
       "      <th>23</th>\n",
       "      <td>NaN</td>\n",
       "    </tr>\n",
       "    <tr>\n",
       "      <th>24</th>\n",
       "      <td>0.256667</td>\n",
       "    </tr>\n",
       "    <tr>\n",
       "      <th>25</th>\n",
       "      <td>15.453297</td>\n",
       "    </tr>\n",
       "    <tr>\n",
       "      <th>26</th>\n",
       "      <td>40.396562</td>\n",
       "    </tr>\n",
       "    <tr>\n",
       "      <th>27</th>\n",
       "      <td>14.699632</td>\n",
       "    </tr>\n",
       "    <tr>\n",
       "      <th>28</th>\n",
       "      <td>40.396562</td>\n",
       "    </tr>\n",
       "    <tr>\n",
       "      <th>29</th>\n",
       "      <td>39.844088</td>\n",
       "    </tr>\n",
       "  </tbody>\n",
       "</table>\n",
       "</div>"
      ],
      "text/plain": [
       "            0\n",
       "0   12.794631\n",
       "1    0.830441\n",
       "2    0.317354\n",
       "3    4.019180\n",
       "4    0.663767\n",
       "5   37.517430\n",
       "6   16.119424\n",
       "7    0.688492\n",
       "8   19.698670\n",
       "9    6.461688\n",
       "10  14.524142\n",
       "11  11.952522\n",
       "12  26.523799\n",
       "13  18.114754\n",
       "14        NaN\n",
       "15   0.770000\n",
       "16  19.415302\n",
       "17   2.204717\n",
       "18   0.256667\n",
       "19  13.256667\n",
       "20   0.256667\n",
       "21        NaN\n",
       "22  18.813229\n",
       "23        NaN\n",
       "24   0.256667\n",
       "25  15.453297\n",
       "26  40.396562\n",
       "27  14.699632\n",
       "28  40.396562\n",
       "29  39.844088"
      ]
     },
     "execution_count": 59,
     "metadata": {},
     "output_type": "execute_result"
    }
   ],
   "source": [
    "from sklearn.feature_selection import SelectKBest\n",
    "from sklearn.feature_selection import chi2\n",
    "bestfeatures = SelectKBest(score_func=chi2, k=10)\n",
    "fit = bestfeatures.fit(X_train,y_train)\n",
    "dfscores = pd.DataFrame(fit.scores_)\n",
    "dfcolumns = pd.DataFrame(X.columns)\n",
    "dfscores"
   ]
  },
  {
   "cell_type": "code",
   "execution_count": 60,
   "id": "2813485e",
   "metadata": {},
   "outputs": [
    {
     "data": {
      "text/html": [
       "<div>\n",
       "<style scoped>\n",
       "    .dataframe tbody tr th:only-of-type {\n",
       "        vertical-align: middle;\n",
       "    }\n",
       "\n",
       "    .dataframe tbody tr th {\n",
       "        vertical-align: top;\n",
       "    }\n",
       "\n",
       "    .dataframe thead th {\n",
       "        text-align: right;\n",
       "    }\n",
       "</style>\n",
       "<table border=\"1\" class=\"dataframe\">\n",
       "  <thead>\n",
       "    <tr style=\"text-align: right;\">\n",
       "      <th></th>\n",
       "      <th>Specs</th>\n",
       "      <th>Score</th>\n",
       "    </tr>\n",
       "  </thead>\n",
       "  <tbody>\n",
       "    <tr>\n",
       "      <th>28</th>\n",
       "      <td>Dx:HPV</td>\n",
       "      <td>40.396562</td>\n",
       "    </tr>\n",
       "    <tr>\n",
       "      <th>26</th>\n",
       "      <td>Dx:Cancer</td>\n",
       "      <td>40.396562</td>\n",
       "    </tr>\n",
       "    <tr>\n",
       "      <th>29</th>\n",
       "      <td>Dx</td>\n",
       "      <td>39.844088</td>\n",
       "    </tr>\n",
       "    <tr>\n",
       "      <th>5</th>\n",
       "      <td>Smokes (years)</td>\n",
       "      <td>37.517430</td>\n",
       "    </tr>\n",
       "    <tr>\n",
       "      <th>12</th>\n",
       "      <td>STDs (number)</td>\n",
       "      <td>26.523799</td>\n",
       "    </tr>\n",
       "    <tr>\n",
       "      <th>8</th>\n",
       "      <td>Hormonal Contraceptives (years)</td>\n",
       "      <td>19.698670</td>\n",
       "    </tr>\n",
       "    <tr>\n",
       "      <th>16</th>\n",
       "      <td>STDs:vulvo-perineal condylomatosis</td>\n",
       "      <td>19.415302</td>\n",
       "    </tr>\n",
       "    <tr>\n",
       "      <th>22</th>\n",
       "      <td>STDs:HIV</td>\n",
       "      <td>18.813229</td>\n",
       "    </tr>\n",
       "    <tr>\n",
       "      <th>13</th>\n",
       "      <td>STDs:condylomatosis</td>\n",
       "      <td>18.114754</td>\n",
       "    </tr>\n",
       "    <tr>\n",
       "      <th>6</th>\n",
       "      <td>Smokes (packs/year)</td>\n",
       "      <td>16.119424</td>\n",
       "    </tr>\n",
       "    <tr>\n",
       "      <th>25</th>\n",
       "      <td>STDs: Number of diagnosis</td>\n",
       "      <td>15.453297</td>\n",
       "    </tr>\n",
       "    <tr>\n",
       "      <th>27</th>\n",
       "      <td>Dx:CIN</td>\n",
       "      <td>14.699632</td>\n",
       "    </tr>\n",
       "    <tr>\n",
       "      <th>10</th>\n",
       "      <td>IUD (years)</td>\n",
       "      <td>14.524142</td>\n",
       "    </tr>\n",
       "    <tr>\n",
       "      <th>19</th>\n",
       "      <td>STDs:genital herpes</td>\n",
       "      <td>13.256667</td>\n",
       "    </tr>\n",
       "    <tr>\n",
       "      <th>0</th>\n",
       "      <td>Age</td>\n",
       "      <td>12.794631</td>\n",
       "    </tr>\n",
       "    <tr>\n",
       "      <th>11</th>\n",
       "      <td>STDs</td>\n",
       "      <td>11.952522</td>\n",
       "    </tr>\n",
       "    <tr>\n",
       "      <th>9</th>\n",
       "      <td>IUD</td>\n",
       "      <td>6.461688</td>\n",
       "    </tr>\n",
       "    <tr>\n",
       "      <th>3</th>\n",
       "      <td>Num of pregnancies</td>\n",
       "      <td>4.019180</td>\n",
       "    </tr>\n",
       "    <tr>\n",
       "      <th>17</th>\n",
       "      <td>STDs:syphilis</td>\n",
       "      <td>2.204717</td>\n",
       "    </tr>\n",
       "    <tr>\n",
       "      <th>1</th>\n",
       "      <td>Number of sexual partners</td>\n",
       "      <td>0.830441</td>\n",
       "    </tr>\n",
       "    <tr>\n",
       "      <th>15</th>\n",
       "      <td>STDs:vaginal condylomatosis</td>\n",
       "      <td>0.770000</td>\n",
       "    </tr>\n",
       "    <tr>\n",
       "      <th>7</th>\n",
       "      <td>Hormonal Contraceptives</td>\n",
       "      <td>0.688492</td>\n",
       "    </tr>\n",
       "    <tr>\n",
       "      <th>4</th>\n",
       "      <td>Smokes</td>\n",
       "      <td>0.663767</td>\n",
       "    </tr>\n",
       "    <tr>\n",
       "      <th>2</th>\n",
       "      <td>First sexual intercourse</td>\n",
       "      <td>0.317354</td>\n",
       "    </tr>\n",
       "    <tr>\n",
       "      <th>18</th>\n",
       "      <td>STDs:pelvic inflammatory disease</td>\n",
       "      <td>0.256667</td>\n",
       "    </tr>\n",
       "    <tr>\n",
       "      <th>20</th>\n",
       "      <td>STDs:molluscum contagiosum</td>\n",
       "      <td>0.256667</td>\n",
       "    </tr>\n",
       "    <tr>\n",
       "      <th>24</th>\n",
       "      <td>STDs:HPV</td>\n",
       "      <td>0.256667</td>\n",
       "    </tr>\n",
       "    <tr>\n",
       "      <th>14</th>\n",
       "      <td>STDs:cervical condylomatosis</td>\n",
       "      <td>NaN</td>\n",
       "    </tr>\n",
       "    <tr>\n",
       "      <th>21</th>\n",
       "      <td>STDs:AIDS</td>\n",
       "      <td>NaN</td>\n",
       "    </tr>\n",
       "    <tr>\n",
       "      <th>23</th>\n",
       "      <td>STDs:Hepatitis B</td>\n",
       "      <td>NaN</td>\n",
       "    </tr>\n",
       "  </tbody>\n",
       "</table>\n",
       "</div>"
      ],
      "text/plain": [
       "                                 Specs      Score\n",
       "28                              Dx:HPV  40.396562\n",
       "26                           Dx:Cancer  40.396562\n",
       "29                                  Dx  39.844088\n",
       "5                       Smokes (years)  37.517430\n",
       "12                       STDs (number)  26.523799\n",
       "8      Hormonal Contraceptives (years)  19.698670\n",
       "16  STDs:vulvo-perineal condylomatosis  19.415302\n",
       "22                            STDs:HIV  18.813229\n",
       "13                 STDs:condylomatosis  18.114754\n",
       "6                  Smokes (packs/year)  16.119424\n",
       "25           STDs: Number of diagnosis  15.453297\n",
       "27                              Dx:CIN  14.699632\n",
       "10                         IUD (years)  14.524142\n",
       "19                 STDs:genital herpes  13.256667\n",
       "0                                  Age  12.794631\n",
       "11                                STDs  11.952522\n",
       "9                                  IUD   6.461688\n",
       "3                   Num of pregnancies   4.019180\n",
       "17                       STDs:syphilis   2.204717\n",
       "1            Number of sexual partners   0.830441\n",
       "15         STDs:vaginal condylomatosis   0.770000\n",
       "7              Hormonal Contraceptives   0.688492\n",
       "4                               Smokes   0.663767\n",
       "2             First sexual intercourse   0.317354\n",
       "18    STDs:pelvic inflammatory disease   0.256667\n",
       "20          STDs:molluscum contagiosum   0.256667\n",
       "24                            STDs:HPV   0.256667\n",
       "14        STDs:cervical condylomatosis        NaN\n",
       "21                           STDs:AIDS        NaN\n",
       "23                    STDs:Hepatitis B        NaN"
      ]
     },
     "execution_count": 60,
     "metadata": {},
     "output_type": "execute_result"
    }
   ],
   "source": [
    "#concat two dataframes for better visualization \n",
    "featureScores = pd.concat([dfcolumns,dfscores],axis=1)\n",
    "featureScores.columns = ['Specs','Score']  #naming the dataframe columns\n",
    "# Sort the dataframe by 'Score' column in descending order\n",
    "featureScores = featureScores.sort_values(by='Score', ascending=False)\n",
    "featureScores"
   ]
  },
  {
   "cell_type": "code",
   "execution_count": 61,
   "id": "724aa65e",
   "metadata": {},
   "outputs": [
    {
     "name": "stdout",
     "output_type": "stream",
     "text": [
      "                                 Specs      Score\n",
      "28                              Dx:HPV  40.396562\n",
      "26                           Dx:Cancer  40.396562\n",
      "29                                  Dx  39.844088\n",
      "5                       Smokes (years)  37.517430\n",
      "12                       STDs (number)  26.523799\n",
      "8      Hormonal Contraceptives (years)  19.698670\n",
      "16  STDs:vulvo-perineal condylomatosis  19.415302\n",
      "22                            STDs:HIV  18.813229\n",
      "13                 STDs:condylomatosis  18.114754\n",
      "6                  Smokes (packs/year)  16.119424\n"
     ]
    }
   ],
   "source": [
    "print(featureScores.nlargest(10,'Score'))  #print 10 best features"
   ]
  },
  {
   "cell_type": "code",
   "execution_count": 62,
   "id": "b4b8069e",
   "metadata": {},
   "outputs": [],
   "source": [
    "# Transform training, validation and testing datasets using the selected features\n",
    "\n",
    "X_train_selected = bestfeatures.transform(X_train)\n",
    "X_val_selected = bestfeatures.transform(X_val)\n",
    "X_test_selected = bestfeatures.transform(X_test)"
   ]
  },
  {
   "cell_type": "markdown",
   "id": "41365222",
   "metadata": {},
   "source": [
    "#### Data modeling\n",
    "In this code, we build two predictive models: Neural Network and Hybrid Neural Network-K Nearest Neighbour. \n",
    "In this section, we focus on building the models and fine tuning the hyperparameter as explained below:\n",
    "\n",
    "**1. Model Building:** \n",
    "- **Neural Network:** Create the model using Keras and Tensorflow. It build which consists 3 different layer namely input layer has   64 neurons   and ReLU activation, hidden layer has 32 neurons and ReLu activation and output layer has 1 neuron and sigmoid     activation for   binary classification. The learning rate has set to the default value which is 0.001. \n",
    "- **Hybrid (NN-KNN):** The model first created with Neural Network which will learn the complex pattern and extract the features in data during training. The output produced by the Neural Network will then be used as input for KNN. KNN algorithm will used the features extracted by NN to classify new data points. The extracted features will be the intermediate layer between NN and KNN.\n",
    "\n",
    "**2. Hyperparameter Tuning:**\n",
    "- **Neural Network:** The parameters consist of hidden layer size and learning rate. We used the training datasets to tune the        hyperparameters. We tune these hyperparameters using the combination of GridSearch and Cross-Validation which help to systematically find the optimize hyperparameters combination. GridSearch plays a role to consider all parameters combination meanwhile Cross-Validation will evaluate the performance of datasets by separating training and validations set few times and obtain the result to prevent overfitting. \n",
    "- **Hybrid (NN-KNN):** The hyperparameter tuning is completely done with KNN algorithm using the GridSearch and Cross Validation. The parameters consists of number of neighbours, weights and distance metric namely euclidean, minkowski and manhattan. A grid search with 5-fold cross-validation is performed to find the best hyperparameters based on accuracy. A new KNN classifier is trained using the best hyperparameters.The trained model is stored in the dictionary best_Hybridknn_classifiers. Then, we evaluate model with best parameters using the validation sets to obtain the model performance with best parameters. \n",
    "___________________________________________"
   ]
  },
  {
   "cell_type": "markdown",
   "id": "4ff89d1d",
   "metadata": {},
   "source": [
    "#### Building Neural Network Model"
   ]
  },
  {
   "cell_type": "code",
   "execution_count": 63,
   "id": "6ee3fb2d",
   "metadata": {},
   "outputs": [],
   "source": [
    "#model_building NN\n",
    "import tensorflow as tf\n",
    "from tensorflow.keras.models import Sequential\n",
    "from tensorflow.keras.layers import Dense\n",
    "\n",
    "# Function to create a neural network model\n",
    "def create_model(input_dim, hidden_layer_size=32, learning_rate=0.001):\n",
    "    model = Sequential()\n",
    "    model.add(Dense(64, input_dim=input_dim, activation='relu'))\n",
    "    model.add(Dense(hidden_layer_size, activation='relu'))\n",
    "    model.add(Dense(1, activation='sigmoid'))  # Sigmoid for binary classification\n",
    "     # Adam optimizer with a configurable learning rate\n",
    "    optimizer = tf.keras.optimizers.Adam(learning_rate=learning_rate)\n",
    "    # Use binary crossentropy to calculate the loss\n",
    "    model.compile(loss='binary_crossentropy', optimizer=optimizer, metrics=['accuracy'])\n",
    "    return model\n"
   ]
  },
  {
   "cell_type": "markdown",
   "id": "be045adc",
   "metadata": {},
   "source": [
    "#### Hyperparameter Tuning for Neural Network Model"
   ]
  },
  {
   "cell_type": "code",
   "execution_count": 66,
   "id": "465f5166",
   "metadata": {
    "scrolled": true
   },
   "outputs": [
    {
     "name": "stdout",
     "output_type": "stream",
     "text": [
      "Hyperparameter tuning for Hinselmann...\n",
      "7/7 [==============================] - 0s 2ms/step\n",
      "7/7 [==============================] - 0s 2ms/step\n",
      "7/7 [==============================] - 0s 2ms/step\n",
      "7/7 [==============================] - 0s 2ms/step\n",
      "7/7 [==============================] - 0s 2ms/step\n",
      "7/7 [==============================] - 0s 2ms/step\n",
      "7/7 [==============================] - 0s 2ms/step\n",
      "7/7 [==============================] - 0s 2ms/step\n",
      "7/7 [==============================] - 0s 2ms/step\n",
      "7/7 [==============================] - 0s 2ms/step\n",
      "7/7 [==============================] - 0s 2ms/step\n",
      "7/7 [==============================] - 0s 2ms/step\n",
      "7/7 [==============================] - 0s 2ms/step\n",
      "7/7 [==============================] - 0s 2ms/step\n",
      "7/7 [==============================] - 0s 2ms/step\n",
      "7/7 [==============================] - 0s 2ms/step\n",
      "7/7 [==============================] - 0s 2ms/step\n",
      "7/7 [==============================] - 0s 2ms/step\n",
      "7/7 [==============================] - 0s 2ms/step\n",
      "7/7 [==============================] - 0s 2ms/step\n",
      "7/7 [==============================] - 0s 2ms/step\n",
      "7/7 [==============================] - 0s 2ms/step\n",
      "7/7 [==============================] - 0s 2ms/step\n",
      "7/7 [==============================] - 0s 2ms/step\n",
      "7/7 [==============================] - 0s 2ms/step\n",
      "7/7 [==============================] - 0s 2ms/step\n",
      "7/7 [==============================] - 0s 3ms/step\n",
      "Best parameters found: {'hidden_layer_size': 32, 'learning_rate': 0.1}\n",
      "Best cross-validation accuracy: 0.9583333333333334\n",
      "\n",
      "\n",
      "Hyperparameter tuning for Schiller...\n",
      "7/7 [==============================] - 0s 2ms/step\n",
      "7/7 [==============================] - 0s 2ms/step\n",
      "7/7 [==============================] - 0s 2ms/step\n",
      "7/7 [==============================] - 0s 2ms/step\n",
      "7/7 [==============================] - 0s 2ms/step\n",
      "7/7 [==============================] - 0s 2ms/step\n",
      "7/7 [==============================] - 0s 2ms/step\n",
      "7/7 [==============================] - 0s 2ms/step\n",
      "7/7 [==============================] - 0s 1ms/step\n",
      "7/7 [==============================] - 0s 2ms/step\n",
      "7/7 [==============================] - 0s 2ms/step\n",
      "7/7 [==============================] - 0s 2ms/step\n",
      "7/7 [==============================] - 0s 2ms/step\n",
      "7/7 [==============================] - 0s 1ms/step\n",
      "7/7 [==============================] - 0s 2ms/step\n",
      "7/7 [==============================] - 0s 2ms/step\n",
      "7/7 [==============================] - 0s 2ms/step\n",
      "7/7 [==============================] - 0s 2ms/step\n",
      "7/7 [==============================] - 0s 2ms/step\n",
      "7/7 [==============================] - 0s 2ms/step\n",
      "7/7 [==============================] - 0s 2ms/step\n",
      "7/7 [==============================] - 0s 3ms/step\n",
      "7/7 [==============================] - 0s 2ms/step\n",
      "7/7 [==============================] - 0s 2ms/step\n",
      "7/7 [==============================] - 0s 2ms/step\n",
      "7/7 [==============================] - 0s 2ms/step\n",
      "7/7 [==============================] - 0s 2ms/step\n",
      "Best parameters found: {'hidden_layer_size': 32, 'learning_rate': 0.1}\n",
      "Best cross-validation accuracy: 0.9116666666666667\n",
      "\n",
      "\n",
      "Hyperparameter tuning for Citology...\n",
      "7/7 [==============================] - 0s 2ms/step\n",
      "7/7 [==============================] - 0s 2ms/step\n",
      "7/7 [==============================] - 0s 2ms/step\n",
      "7/7 [==============================] - 0s 2ms/step\n",
      "7/7 [==============================] - 0s 2ms/step\n",
      "7/7 [==============================] - 0s 2ms/step\n",
      "7/7 [==============================] - 0s 2ms/step\n",
      "7/7 [==============================] - 0s 2ms/step\n",
      "7/7 [==============================] - 0s 2ms/step\n",
      "7/7 [==============================] - 0s 2ms/step\n",
      "7/7 [==============================] - 0s 2ms/step\n",
      "7/7 [==============================] - 0s 2ms/step\n",
      "7/7 [==============================] - 0s 2ms/step\n",
      "7/7 [==============================] - 0s 2ms/step\n",
      "7/7 [==============================] - 0s 2ms/step\n",
      "7/7 [==============================] - 0s 3ms/step\n",
      "7/7 [==============================] - 0s 2ms/step\n",
      "7/7 [==============================] - 0s 2ms/step\n",
      "7/7 [==============================] - 0s 3ms/step\n",
      "7/7 [==============================] - 0s 2ms/step\n",
      "7/7 [==============================] - 0s 2ms/step\n",
      "7/7 [==============================] - 0s 2ms/step\n",
      "7/7 [==============================] - 0s 2ms/step\n",
      "7/7 [==============================] - 0s 2ms/step\n",
      "7/7 [==============================] - 0s 2ms/step\n",
      "7/7 [==============================] - 0s 2ms/step\n",
      "7/7 [==============================] - 0s 3ms/step\n",
      "Best parameters found: {'hidden_layer_size': 64, 'learning_rate': 0.1}\n",
      "Best cross-validation accuracy: 0.94\n",
      "\n",
      "\n",
      "Hyperparameter tuning for Biopsy...\n",
      "7/7 [==============================] - 0s 2ms/step\n",
      "7/7 [==============================] - 0s 1ms/step\n",
      "7/7 [==============================] - 0s 2ms/step\n",
      "7/7 [==============================] - 0s 2ms/step\n",
      "7/7 [==============================] - 0s 2ms/step\n",
      "7/7 [==============================] - 0s 2ms/step\n",
      "7/7 [==============================] - 0s 2ms/step\n",
      "7/7 [==============================] - 0s 2ms/step\n",
      "7/7 [==============================] - 0s 2ms/step\n",
      "7/7 [==============================] - 0s 2ms/step\n",
      "7/7 [==============================] - 0s 2ms/step\n",
      "7/7 [==============================] - 0s 2ms/step\n",
      "7/7 [==============================] - 0s 2ms/step\n",
      "7/7 [==============================] - 0s 2ms/step\n",
      "7/7 [==============================] - 0s 3ms/step\n",
      "7/7 [==============================] - 0s 2ms/step\n",
      "7/7 [==============================] - 0s 2ms/step\n",
      "7/7 [==============================] - 0s 2ms/step\n",
      "7/7 [==============================] - 0s 2ms/step\n",
      "7/7 [==============================] - 0s 2ms/step\n",
      "7/7 [==============================] - 0s 2ms/step\n",
      "7/7 [==============================] - 0s 2ms/step\n",
      "7/7 [==============================] - 0s 2ms/step\n",
      "7/7 [==============================] - 0s 2ms/step\n",
      "7/7 [==============================] - 0s 2ms/step\n",
      "7/7 [==============================] - 0s 2ms/step\n",
      "7/7 [==============================] - 0s 2ms/step\n",
      "Best parameters found: {'hidden_layer_size': 32, 'learning_rate': 0.1}\n",
      "Best cross-validation accuracy: 0.9333333333333332\n",
      "\n",
      "\n",
      "Model Accuracy for each target variable:\n",
      "Hinselmann: {'best_params': {'hidden_layer_size': 32, 'learning_rate': 0.1}, 'best_score': 0.9583333333333334}\n",
      "Schiller: {'best_params': {'hidden_layer_size': 32, 'learning_rate': 0.1}, 'best_score': 0.9116666666666667}\n",
      "Citology: {'best_params': {'hidden_layer_size': 64, 'learning_rate': 0.1}, 'best_score': 0.94}\n",
      "Biopsy: {'best_params': {'hidden_layer_size': 32, 'learning_rate': 0.1}, 'best_score': 0.9333333333333332}\n"
     ]
    }
   ],
   "source": [
    "import numpy as np\n",
    "from sklearn.model_selection import GridSearchCV\n",
    "\n",
    "# Define target variables and hyperparameter grid\n",
    "target_vars = ['Hinselmann', 'Schiller', 'Citology', 'Biopsy']\n",
    "param_grid = {\n",
    "    'hidden_layer_size': [32, 64, 128],\n",
    "    'learning_rate': [0.001, 0.01, 0.1]\n",
    "}\n",
    "\n",
    "# Initialize results and best neural network model dictionary\n",
    "results = {}\n",
    "best_nn_classifier={}\n",
    "\n",
    "# Iterate over each target variable\n",
    "for target_column in target_vars:\n",
    "    #convert training datasets to tensors because TensorFlow's neural network models need the input data in tensor.\n",
    "    X_train_nn = tf.convert_to_tensor(X_train_selected, dtype=tf.float32)\n",
    "    y_train_nn = tf.convert_to_tensor(y_train[target_column].values, dtype=tf.float32)\n",
    "\n",
    "    # Convert tensors to numpy arrays to be use in GridSearchCV which require the input data in NumPy Arrays. \n",
    "    # The GridSearchCV will be use to find the optimize parameters. \n",
    "    X_train_np = np.array(X_train_nn)\n",
    "    y_train_np = np.array(y_train_nn)\n",
    "\n",
    "    print(f\"Hyperparameter tuning for {target_column}...\")\n",
    "\n",
    "    # Create the KerasClassifier model\n",
    "    model = tf.keras.wrappers.scikit_learn.KerasClassifier(\n",
    "        build_fn=create_model, input_dim=X_train_nn.shape[1], epochs=50, batch_size=32, verbose=0)\n",
    "\n",
    "    # Perform GridSearchCV\n",
    "    grid_search = GridSearchCV(estimator=model, param_grid=param_grid, cv=3, scoring='accuracy')\n",
    "\n",
    "    # Fit the model\n",
    "    grid_search.fit(X_train_np, y_train_np)\n",
    "\n",
    "    # Get the best model and parameters\n",
    "    best_model = grid_search.best_estimator_\n",
    "    results[target_column] = {\n",
    "        'best_params': grid_search.best_params_,\n",
    "        'best_score': grid_search.best_score_\n",
    "    }\n",
    "\n",
    "    print(f\"Best parameters found: {grid_search.best_params_}\")\n",
    "    print(f\"Best cross-validation accuracy: {grid_search.best_score_}\")\n",
    "    print(\"\\n\")\n",
    "    \n",
    "    nn_best_params = tf.keras.wrappers.scikit_learn.KerasClassifier(\n",
    "        build_fn=create_model,\n",
    "        hidden_layer_size=grid_search.best_params_['hidden_layer_size'],\n",
    "        learning_rate=grid_search.best_params_['learning_rate'],\n",
    "        input_dim=X_train_nn.shape[1],\n",
    "        epochs=50,\n",
    "        batch_size=32,\n",
    "        verbose=0)\n",
    "    nn_best_params.fit(X_train_nn, y_train_nn)\n",
    "    best_nn_classifier[target_column]=nn_best_params\n",
    "\n",
    "# Print overall results\n",
    "print('Model Accuracy for each target variable:')\n",
    "for target, accuracy in results.items():\n",
    "    print(f'{target}: {accuracy}')\n"
   ]
  },
  {
   "cell_type": "markdown",
   "id": "56341e96",
   "metadata": {},
   "source": [
    "#### Building Hybrid NN-KNN Model"
   ]
  },
  {
   "cell_type": "code",
   "execution_count": 67,
   "id": "b75b9511",
   "metadata": {},
   "outputs": [
    {
     "name": "stdout",
     "output_type": "stream",
     "text": [
      "Epoch 1/50\n",
      "19/19 [==============================] - 1s 16ms/step - loss: 0.6495 - accuracy: 0.0233 - val_loss: 0.6151 - val_accuracy: 0.0000e+00\n",
      "Epoch 2/50\n",
      "19/19 [==============================] - 0s 5ms/step - loss: 0.5641 - accuracy: 0.0167 - val_loss: 0.5052 - val_accuracy: 0.0116\n",
      "Epoch 3/50\n",
      "19/19 [==============================] - 0s 6ms/step - loss: 0.4295 - accuracy: 0.0283 - val_loss: 0.3596 - val_accuracy: 0.0581\n",
      "Epoch 4/50\n",
      "19/19 [==============================] - 0s 5ms/step - loss: 0.2959 - accuracy: 0.0467 - val_loss: 0.2978 - val_accuracy: 0.0581\n",
      "Epoch 5/50\n",
      "19/19 [==============================] - 0s 5ms/step - loss: 0.2676 - accuracy: 0.0433 - val_loss: 0.2994 - val_accuracy: 0.0581\n",
      "Epoch 6/50\n",
      "19/19 [==============================] - 0s 4ms/step - loss: 0.2477 - accuracy: 0.0417 - val_loss: 0.2914 - val_accuracy: 0.0581\n",
      "Epoch 7/50\n",
      "19/19 [==============================] - 0s 4ms/step - loss: 0.2573 - accuracy: 0.0450 - val_loss: 0.2851 - val_accuracy: 0.0581\n",
      "Epoch 8/50\n",
      "19/19 [==============================] - 0s 4ms/step - loss: 0.2519 - accuracy: 0.0467 - val_loss: 0.2806 - val_accuracy: 0.0581\n",
      "Epoch 9/50\n",
      "19/19 [==============================] - 0s 5ms/step - loss: 0.2401 - accuracy: 0.0467 - val_loss: 0.2763 - val_accuracy: 0.0581\n",
      "Epoch 10/50\n",
      "19/19 [==============================] - 0s 5ms/step - loss: 0.2432 - accuracy: 0.0433 - val_loss: 0.2738 - val_accuracy: 0.0581\n",
      "Epoch 11/50\n",
      "19/19 [==============================] - 0s 5ms/step - loss: 0.2424 - accuracy: 0.0467 - val_loss: 0.2714 - val_accuracy: 0.0581\n",
      "Epoch 12/50\n",
      "19/19 [==============================] - 0s 4ms/step - loss: 0.2318 - accuracy: 0.0450 - val_loss: 0.2686 - val_accuracy: 0.0581\n",
      "Epoch 13/50\n",
      "19/19 [==============================] - 0s 5ms/step - loss: 0.2403 - accuracy: 0.0500 - val_loss: 0.2673 - val_accuracy: 0.0581\n",
      "Epoch 14/50\n",
      "19/19 [==============================] - 0s 5ms/step - loss: 0.2348 - accuracy: 0.0417 - val_loss: 0.2638 - val_accuracy: 0.0581\n",
      "Epoch 15/50\n",
      "19/19 [==============================] - 0s 5ms/step - loss: 0.2369 - accuracy: 0.0450 - val_loss: 0.2629 - val_accuracy: 0.0581\n",
      "Epoch 16/50\n",
      "19/19 [==============================] - 0s 5ms/step - loss: 0.2267 - accuracy: 0.0483 - val_loss: 0.2614 - val_accuracy: 0.0581\n",
      "Epoch 17/50\n",
      "19/19 [==============================] - 0s 5ms/step - loss: 0.2351 - accuracy: 0.0483 - val_loss: 0.2599 - val_accuracy: 0.0581\n",
      "Epoch 18/50\n",
      "19/19 [==============================] - 0s 4ms/step - loss: 0.2277 - accuracy: 0.0483 - val_loss: 0.2587 - val_accuracy: 0.0581\n",
      "Epoch 19/50\n",
      "19/19 [==============================] - 0s 6ms/step - loss: 0.2291 - accuracy: 0.0450 - val_loss: 0.2584 - val_accuracy: 0.0581\n",
      "Epoch 20/50\n",
      "19/19 [==============================] - 0s 4ms/step - loss: 0.2262 - accuracy: 0.0417 - val_loss: 0.2566 - val_accuracy: 0.0581\n",
      "Epoch 21/50\n",
      "19/19 [==============================] - 0s 4ms/step - loss: 0.2321 - accuracy: 0.0517 - val_loss: 0.2568 - val_accuracy: 0.0581\n",
      "Epoch 22/50\n",
      "19/19 [==============================] - 0s 5ms/step - loss: 0.2300 - accuracy: 0.0483 - val_loss: 0.2562 - val_accuracy: 0.0581\n",
      "Epoch 23/50\n",
      "19/19 [==============================] - 0s 5ms/step - loss: 0.2307 - accuracy: 0.0500 - val_loss: 0.2565 - val_accuracy: 0.0581\n",
      "Epoch 24/50\n",
      "19/19 [==============================] - 0s 4ms/step - loss: 0.2299 - accuracy: 0.0450 - val_loss: 0.2542 - val_accuracy: 0.0581\n",
      "Epoch 25/50\n",
      "19/19 [==============================] - 0s 4ms/step - loss: 0.2291 - accuracy: 0.0450 - val_loss: 0.2542 - val_accuracy: 0.0581\n",
      "Epoch 26/50\n",
      "19/19 [==============================] - 0s 4ms/step - loss: 0.2252 - accuracy: 0.0467 - val_loss: 0.2537 - val_accuracy: 0.0581\n",
      "Epoch 27/50\n",
      "19/19 [==============================] - 0s 5ms/step - loss: 0.2255 - accuracy: 0.0450 - val_loss: 0.2537 - val_accuracy: 0.0581\n",
      "Epoch 28/50\n",
      "19/19 [==============================] - 0s 5ms/step - loss: 0.2256 - accuracy: 0.0467 - val_loss: 0.2522 - val_accuracy: 0.0581\n",
      "Epoch 29/50\n",
      "19/19 [==============================] - 0s 5ms/step - loss: 0.2254 - accuracy: 0.0433 - val_loss: 0.2529 - val_accuracy: 0.0581\n",
      "Epoch 30/50\n",
      "19/19 [==============================] - 0s 5ms/step - loss: 0.2324 - accuracy: 0.0417 - val_loss: 0.2510 - val_accuracy: 0.0581\n",
      "Epoch 31/50\n",
      "19/19 [==============================] - 0s 5ms/step - loss: 0.2233 - accuracy: 0.0433 - val_loss: 0.2502 - val_accuracy: 0.0581\n",
      "Epoch 32/50\n",
      "19/19 [==============================] - 0s 5ms/step - loss: 0.2253 - accuracy: 0.0433 - val_loss: 0.2516 - val_accuracy: 0.0581\n",
      "Epoch 33/50\n",
      "19/19 [==============================] - 0s 5ms/step - loss: 0.2275 - accuracy: 0.0500 - val_loss: 0.2505 - val_accuracy: 0.0581\n",
      "Epoch 34/50\n",
      "19/19 [==============================] - 0s 5ms/step - loss: 0.2244 - accuracy: 0.0450 - val_loss: 0.2496 - val_accuracy: 0.0581\n",
      "Epoch 35/50\n",
      "19/19 [==============================] - 0s 4ms/step - loss: 0.2241 - accuracy: 0.0467 - val_loss: 0.2491 - val_accuracy: 0.0581\n",
      "Epoch 36/50\n",
      "19/19 [==============================] - 0s 5ms/step - loss: 0.2194 - accuracy: 0.0450 - val_loss: 0.2492 - val_accuracy: 0.0581\n",
      "Epoch 37/50\n",
      "19/19 [==============================] - 0s 5ms/step - loss: 0.2210 - accuracy: 0.0500 - val_loss: 0.2501 - val_accuracy: 0.0465\n",
      "Epoch 38/50\n",
      "19/19 [==============================] - 0s 4ms/step - loss: 0.2206 - accuracy: 0.0467 - val_loss: 0.2489 - val_accuracy: 0.0581\n",
      "Epoch 39/50\n",
      "19/19 [==============================] - 0s 4ms/step - loss: 0.2243 - accuracy: 0.0517 - val_loss: 0.2496 - val_accuracy: 0.0581\n",
      "Epoch 40/50\n",
      "19/19 [==============================] - 0s 6ms/step - loss: 0.2181 - accuracy: 0.0450 - val_loss: 0.2480 - val_accuracy: 0.0581\n",
      "Epoch 41/50\n",
      "19/19 [==============================] - 0s 4ms/step - loss: 0.2200 - accuracy: 0.0517 - val_loss: 0.2477 - val_accuracy: 0.0581\n",
      "Epoch 42/50\n",
      "19/19 [==============================] - 0s 5ms/step - loss: 0.2248 - accuracy: 0.0450 - val_loss: 0.2481 - val_accuracy: 0.0581\n",
      "Epoch 43/50\n",
      "19/19 [==============================] - 0s 4ms/step - loss: 0.2183 - accuracy: 0.0500 - val_loss: 0.2481 - val_accuracy: 0.0581\n",
      "Epoch 44/50\n",
      "19/19 [==============================] - 0s 4ms/step - loss: 0.2234 - accuracy: 0.0433 - val_loss: 0.2473 - val_accuracy: 0.0581\n",
      "Epoch 45/50\n",
      "19/19 [==============================] - 0s 5ms/step - loss: 0.2225 - accuracy: 0.0450 - val_loss: 0.2479 - val_accuracy: 0.0581\n",
      "Epoch 46/50\n",
      "19/19 [==============================] - 0s 5ms/step - loss: 0.2246 - accuracy: 0.0550 - val_loss: 0.2492 - val_accuracy: 0.0581\n",
      "Epoch 47/50\n",
      "19/19 [==============================] - 0s 5ms/step - loss: 0.2172 - accuracy: 0.0500 - val_loss: 0.2499 - val_accuracy: 0.0581\n",
      "Epoch 48/50\n",
      "19/19 [==============================] - 0s 5ms/step - loss: 0.2220 - accuracy: 0.0433 - val_loss: 0.2498 - val_accuracy: 0.0581\n",
      "Epoch 49/50\n",
      "19/19 [==============================] - 0s 4ms/step - loss: 0.2234 - accuracy: 0.0500 - val_loss: 0.2492 - val_accuracy: 0.0581\n",
      "Epoch 50/50\n",
      "19/19 [==============================] - 0s 5ms/step - loss: 0.2193 - accuracy: 0.0600 - val_loss: 0.2486 - val_accuracy: 0.0581\n"
     ]
    },
    {
     "data": {
      "text/plain": [
       "<keras.callbacks.History at 0x2440c501630>"
      ]
     },
     "execution_count": 67,
     "metadata": {},
     "output_type": "execute_result"
    }
   ],
   "source": [
    "import tensorflow as tf\n",
    "from tensorflow.keras.models import Sequential\n",
    "from tensorflow.keras.layers import Dense, Dropout\n",
    "\n",
    "# Define the neural network\n",
    "def create_nn(input_dim):\n",
    "    model = Sequential()\n",
    "    model.add(Dense(64, input_dim=input_dim, activation='relu'))\n",
    "    # use dropout to prevent overfitting by randomly setting a fraction of input units at each update during training.\n",
    "    model.add(Dropout(0.5))\n",
    "    model.add(Dense(32, activation='relu'))\n",
    "    model.add(Dense(16, activation='relu'))\n",
    "    return model\n",
    "\n",
    "# Create and train the neural network\n",
    "input_dim = X_train_scaled.shape[1]\n",
    "nn_model = create_nn(input_dim)\n",
    "# Output layer for multi-label classification\n",
    "nn_model.add(Dense(4, activation='sigmoid'))  \n",
    "# Use binary crossentropy to calculate the loss\n",
    "nn_model.compile(optimizer='adam', loss='binary_crossentropy', metrics=['accuracy'])\n",
    "# fit the model to the training datasets. Validation set is using to monitor model performance on unseen data during training.\n",
    "nn_model.fit(X_train_scaled, y_train, epochs=50, batch_size=32, validation_data=(X_val_scaled, y_val))\n"
   ]
  },
  {
   "cell_type": "code",
   "execution_count": 68,
   "id": "f2c29ed3",
   "metadata": {},
   "outputs": [
    {
     "name": "stdout",
     "output_type": "stream",
     "text": [
      "19/19 [==============================] - 0s 2ms/step\n",
      "3/3 [==============================] - 0s 3ms/step\n",
      "6/6 [==============================] - 0s 2ms/step\n"
     ]
    }
   ],
   "source": [
    "# Create a model that outputs the features from an intermediate layer\n",
    "feature_extractor = tf.keras.Model(inputs=nn_model.input, outputs=nn_model.layers[-3].output)\n",
    "\n",
    "#These extracted features can be used as input for a K-Nearest Neighbors (KNN) model for future analysis and prediction\n",
    "X_train_features = feature_extractor.predict(X_train_scaled)\n",
    "X_val_features = feature_extractor.predict(X_val_scaled)\n",
    "X_test_features = feature_extractor.predict(X_test_scaled)\n"
   ]
  },
  {
   "cell_type": "markdown",
   "id": "918f50c8",
   "metadata": {},
   "source": [
    "#### Hyperparameter Tuning for Hybrid (NN-KNN) Model"
   ]
  },
  {
   "cell_type": "code",
   "execution_count": 69,
   "id": "2e7337b5",
   "metadata": {},
   "outputs": [
    {
     "name": "stdout",
     "output_type": "stream",
     "text": [
      "Best Parameters for Hinselmann: {'metric': 'euclidean', 'n_neighbors': 2, 'weights': 'uniform'}\n",
      "Best Parameters for Schiller: {'metric': 'euclidean', 'n_neighbors': 15, 'weights': 'distance'}\n",
      "Best Parameters for Citology: {'metric': 'euclidean', 'n_neighbors': 15, 'weights': 'distance'}\n",
      "Best Parameters for Biopsy: {'metric': 'euclidean', 'n_neighbors': 16, 'weights': 'distance'}\n"
     ]
    }
   ],
   "source": [
    "from sklearn.neighbors import KNeighborsClassifier\n",
    "from sklearn.model_selection import GridSearchCV\n",
    "from sklearn.metrics import classification_report, confusion_matrix\n",
    "\n",
    "# Define the parameters for KNN\n",
    "param_knn = {\n",
    "    \"n_neighbors\": range(1, 31),\n",
    "    \"weights\": [\"distance\", \"uniform\"],\n",
    "    \"metric\": [\"euclidean\", \"minkowski\", \"manhattan\"]\n",
    "}\n",
    "#This dictionary will store the best KNN models (optimized with GridSearchCV) for each target column.\n",
    "best_Hybridknn_classifiers = {}\n",
    "\n",
    "# Hyperparameter tuning and training for each target column\n",
    "for target_column in y_train.columns:\n",
    "    # Initialize the K-Nearest Neighbors classifier\n",
    "    knn = KNeighborsClassifier()\n",
    "    \n",
    "    # Fit the grid search for the current target column\n",
    "    grid_search = GridSearchCV(estimator=knn, param_grid=param_knn,\n",
    "                               scoring=\"accuracy\", cv=5)\n",
    "    grid_search.fit(X_train_features, y_train[target_column])\n",
    "    \n",
    "    # Print the optimal parameters\n",
    "    print(f\"Best Parameters for {target_column}: {grid_search.best_params_}\")\n",
    "    \n",
    "    # Train KNN model with optimal parameters found by GridSearchCV\n",
    "    knn_best_params = KNeighborsClassifier(**grid_search.best_params_)\n",
    "    knn_best_params.fit(X_train_features, y_train[target_column])\n",
    "    best_Hybridknn_classifiers[target_column] = knn_best_params\n"
   ]
  },
  {
   "cell_type": "code",
   "execution_count": 70,
   "id": "407cb90b",
   "metadata": {},
   "outputs": [
    {
     "name": "stdout",
     "output_type": "stream",
     "text": [
      "Validation set performance after hyperparameter tuning for target 'Hinselmann':\n",
      "Confusion Matrix (Validation):\n",
      "[[81  0]\n",
      " [ 5  0]]\n",
      "Classification Report (Validation):\n",
      "              precision    recall  f1-score   support\n",
      "\n",
      "           0       0.94      1.00      0.97        81\n",
      "           1       0.00      0.00      0.00         5\n",
      "\n",
      "    accuracy                           0.94        86\n",
      "   macro avg       0.47      0.50      0.49        86\n",
      "weighted avg       0.89      0.94      0.91        86\n",
      "\n",
      "Validation set performance after hyperparameter tuning for target 'Schiller':\n",
      "Confusion Matrix (Validation):\n",
      "[[75  1]\n",
      " [10  0]]\n",
      "Classification Report (Validation):\n",
      "              precision    recall  f1-score   support\n",
      "\n",
      "           0       0.88      0.99      0.93        76\n",
      "           1       0.00      0.00      0.00        10\n",
      "\n",
      "    accuracy                           0.87        86\n",
      "   macro avg       0.44      0.49      0.47        86\n",
      "weighted avg       0.78      0.87      0.82        86\n",
      "\n",
      "Validation set performance after hyperparameter tuning for target 'Citology':\n",
      "Confusion Matrix (Validation):\n",
      "[[81  1]\n",
      " [ 4  0]]\n",
      "Classification Report (Validation):\n",
      "              precision    recall  f1-score   support\n",
      "\n",
      "           0       0.95      0.99      0.97        82\n",
      "           1       0.00      0.00      0.00         4\n",
      "\n",
      "    accuracy                           0.94        86\n",
      "   macro avg       0.48      0.49      0.49        86\n",
      "weighted avg       0.91      0.94      0.92        86\n",
      "\n",
      "Validation set performance after hyperparameter tuning for target 'Biopsy':\n",
      "Confusion Matrix (Validation):\n",
      "[[79  1]\n",
      " [ 6  0]]\n",
      "Classification Report (Validation):\n",
      "              precision    recall  f1-score   support\n",
      "\n",
      "           0       0.93      0.99      0.96        80\n",
      "           1       0.00      0.00      0.00         6\n",
      "\n",
      "    accuracy                           0.92        86\n",
      "   macro avg       0.46      0.49      0.48        86\n",
      "weighted avg       0.86      0.92      0.89        86\n",
      "\n"
     ]
    }
   ],
   "source": [
    "#evaluation of model with the best parameters for each target column using validation datasets. \n",
    "for target_column, model in best_Hybridknn_classifiers.items():\n",
    "    # Evaluate on the validation set\n",
    "    y_val_pred = model.predict(X_val_features)\n",
    "    print(f\"Validation set performance after hyperparameter tuning for target '{target_column}':\")\n",
    "    \n",
    "    # Print confusion matrix for validation set\n",
    "    print(\"Confusion Matrix (Validation):\")\n",
    "    print(confusion_matrix(y_val[target_column], y_val_pred))\n",
    "    \n",
    "    # Print classification report for validation set\n",
    "    print(\"Classification Report (Validation):\")\n",
    "    print(classification_report(y_val[target_column], y_val_pred, zero_division=0))"
   ]
  },
  {
   "cell_type": "markdown",
   "id": "85b19bc1",
   "metadata": {},
   "source": [
    "#### Evaluate the models\n",
    "\n",
    "In this code, we evaluate two predictive models: Neural Network and Hybrid Neural Network-K Nearest Neighbour. We uses key performance metrics to evaluate the models including accuracy, precision, recall and f1-score. The performance of models presented in confusion matrix and classification report.\n",
    "In this section, we focus on evaluate the optimized models using testing dataset as explained below:\n",
    "\n",
    "**1. Neural network**: \n",
    "- For each target variable, we uses their corressponding best parameters from hyperparameter tuning to predict the target of the test set. This helps us to assess the performance of the models to unseen data. \n",
    "\n",
    "**2. Hybrid (NN-KNN)**: \n",
    "- For each target variable, we evaluates the performance of the best Hybrid (NN-KNN) classifiers, which combine input features extracted by Neural Network model and best parameter tuned by KNN classifiers.\n",
    "___________________________________________"
   ]
  },
  {
   "cell_type": "markdown",
   "id": "4e5c1a17",
   "metadata": {},
   "source": [
    "#### Evaluating Neural Network Model"
   ]
  },
  {
   "cell_type": "code",
   "execution_count": 71,
   "id": "12ae2c6b",
   "metadata": {
    "scrolled": true
   },
   "outputs": [
    {
     "name": "stdout",
     "output_type": "stream",
     "text": [
      "Evaluating best model for Hinselmann on the test set...\n",
      "6/6 [==============================] - 0s 3ms/step\n",
      "Confusion Matrix (Test):\n",
      "[[167   0]\n",
      " [  5   0]]\n",
      "Accuracy Score (Test):\n",
      "0.9709302325581395\n",
      "Classification Report (Test):\n",
      "              precision    recall  f1-score   support\n",
      "\n",
      "         0.0       0.97      1.00      0.99       167\n",
      "         1.0       0.00      0.00      0.00         5\n",
      "\n",
      "    accuracy                           0.97       172\n",
      "   macro avg       0.49      0.50      0.49       172\n",
      "weighted avg       0.94      0.97      0.96       172\n",
      "\n",
      "\n",
      "\n",
      "Evaluating best model for Schiller on the test set...\n",
      "6/6 [==============================] - 0s 2ms/step\n",
      "Confusion Matrix (Test):\n",
      "[[161   0]\n",
      " [ 11   0]]\n",
      "Accuracy Score (Test):\n",
      "0.936046511627907\n",
      "Classification Report (Test):\n",
      "              precision    recall  f1-score   support\n",
      "\n",
      "         0.0       0.94      1.00      0.97       161\n",
      "         1.0       0.00      0.00      0.00        11\n",
      "\n",
      "    accuracy                           0.94       172\n",
      "   macro avg       0.47      0.50      0.48       172\n",
      "weighted avg       0.88      0.94      0.91       172\n",
      "\n",
      "\n",
      "\n",
      "Evaluating best model for Citology on the test set...\n",
      "6/6 [==============================] - 0s 2ms/step\n",
      "Confusion Matrix (Test):\n",
      "[[168   0]\n",
      " [  4   0]]\n",
      "Accuracy Score (Test):\n",
      "0.9767441860465116\n",
      "Classification Report (Test):\n",
      "              precision    recall  f1-score   support\n",
      "\n",
      "         0.0       0.98      1.00      0.99       168\n",
      "         1.0       0.00      0.00      0.00         4\n",
      "\n",
      "    accuracy                           0.98       172\n",
      "   macro avg       0.49      0.50      0.49       172\n",
      "weighted avg       0.95      0.98      0.97       172\n",
      "\n",
      "\n",
      "\n",
      "Evaluating best model for Biopsy on the test set...\n",
      "6/6 [==============================] - 0s 3ms/step\n",
      "Confusion Matrix (Test):\n",
      "[[162   1]\n",
      " [  9   0]]\n",
      "Accuracy Score (Test):\n",
      "0.9418604651162791\n",
      "Classification Report (Test):\n",
      "              precision    recall  f1-score   support\n",
      "\n",
      "         0.0       0.95      0.99      0.97       163\n",
      "         1.0       0.00      0.00      0.00         9\n",
      "\n",
      "    accuracy                           0.94       172\n",
      "   macro avg       0.47      0.50      0.49       172\n",
      "weighted avg       0.90      0.94      0.92       172\n",
      "\n",
      "\n",
      "\n",
      "Test set accuracy for each target variable:\n",
      "Hinselmann: 0.9709302325581395\n",
      "Schiller: 0.936046511627907\n",
      "Citology: 0.9767441860465116\n",
      "Biopsy: 0.9418604651162791\n"
     ]
    }
   ],
   "source": [
    "# Evaluate the best model on the test set\n",
    "# This dictionary will store the accuracy results for each target column.\n",
    "test_results_NN = {}\n",
    "#Iterate over each target with the corresponding best parameters NN model to evaluate the performance.\n",
    "for target_column, best_params in results.items():\n",
    "    #convert training and testing datasets to TensorFlow tensor to be used in Neural Network model\n",
    "    X_train_nn = tf.convert_to_tensor(X_train_selected, dtype=tf.float32)\n",
    "    y_train_nn = tf.convert_to_tensor(y_train[target_column].values, dtype=tf.float32)\n",
    "    X_test_nn = tf.convert_to_tensor(X_test_selected, dtype=tf.float32)\n",
    "    y_test_nn = tf.convert_to_tensor(y_test[target_column].values, dtype=tf.float32)\n",
    "    print(f\"Evaluating best model for {target_column} on the test set...\")\n",
    "    \n",
    "    # Create the model with best parameters\n",
    "    model = create_model(X_train_nn.shape[1], **best_params['best_params'])\n",
    "    \n",
    "    # Train the model on the full training set with best parameters\n",
    "    model.fit(X_train_nn, y_train_nn, epochs=50, batch_size=32, verbose=0)\n",
    "    \n",
    "    # Predict on the test set to get individual predictions\n",
    "    y_test_pred = model.predict(X_test_nn)\n",
    "    y_test_pred = (y_test_pred > 0.5).astype(int)  # Assuming binary classification\n",
    "\n",
    "     # Print confusion matrix for test set\n",
    "    print(\"Confusion Matrix (Test):\")\n",
    "    print(confusion_matrix(y_test_nn, y_test_pred))\n",
    "    \n",
    "    # Print accuracy score for test set\n",
    "    print(\"Accuracy Score (Test):\")\n",
    "    test_results_NN[target_column]= accuracy_score(y_test_nn, y_test_pred)\n",
    "    print( test_results_NN[target_column])\n",
    "    \n",
    "    # Print classification report for test set\n",
    "    print(\"Classification Report (Test):\")\n",
    "    print(classification_report(y_test_nn, y_test_pred, zero_division=0))\n",
    "    print(\"\\n\")\n",
    "\n",
    "# Print overall test results\n",
    "print('Test set accuracy for each target variable:')\n",
    "for target, result in test_results_NN.items():\n",
    "    print(f'{target}: {result}')\n"
   ]
  },
  {
   "cell_type": "markdown",
   "id": "0308710b",
   "metadata": {},
   "source": [
    "#### Evaluating Hybrid (NN-KNN) Model"
   ]
  },
  {
   "cell_type": "code",
   "execution_count": 72,
   "id": "258d1b9a",
   "metadata": {},
   "outputs": [
    {
     "name": "stdout",
     "output_type": "stream",
     "text": [
      "Test set performance after hyperparameter tuning for target 'Hinselmann':\n",
      "Confusion Matrix (Test):\n",
      "[[166   1]\n",
      " [  5   0]]\n",
      "Accuracy Score (Test):\n",
      "0.9651162790697675\n",
      "Classification Report (Test):\n",
      "              precision    recall  f1-score   support\n",
      "\n",
      "           0       0.97      0.99      0.98       167\n",
      "           1       0.00      0.00      0.00         5\n",
      "\n",
      "    accuracy                           0.97       172\n",
      "   macro avg       0.49      0.50      0.49       172\n",
      "weighted avg       0.94      0.97      0.95       172\n",
      "\n",
      "\n",
      "\n",
      "Test set performance after hyperparameter tuning for target 'Schiller':\n",
      "Confusion Matrix (Test):\n",
      "[[161   0]\n",
      " [ 11   0]]\n",
      "Accuracy Score (Test):\n",
      "0.936046511627907\n",
      "Classification Report (Test):\n",
      "              precision    recall  f1-score   support\n",
      "\n",
      "           0       0.94      1.00      0.97       161\n",
      "           1       0.00      0.00      0.00        11\n",
      "\n",
      "    accuracy                           0.94       172\n",
      "   macro avg       0.47      0.50      0.48       172\n",
      "weighted avg       0.88      0.94      0.91       172\n",
      "\n",
      "\n",
      "\n",
      "Test set performance after hyperparameter tuning for target 'Citology':\n",
      "Confusion Matrix (Test):\n",
      "[[168   0]\n",
      " [  4   0]]\n",
      "Accuracy Score (Test):\n",
      "0.9767441860465116\n",
      "Classification Report (Test):\n",
      "              precision    recall  f1-score   support\n",
      "\n",
      "           0       0.98      1.00      0.99       168\n",
      "           1       0.00      0.00      0.00         4\n",
      "\n",
      "    accuracy                           0.98       172\n",
      "   macro avg       0.49      0.50      0.49       172\n",
      "weighted avg       0.95      0.98      0.97       172\n",
      "\n",
      "\n",
      "\n",
      "Test set performance after hyperparameter tuning for target 'Biopsy':\n",
      "Confusion Matrix (Test):\n",
      "[[163   0]\n",
      " [  9   0]]\n",
      "Accuracy Score (Test):\n",
      "0.9476744186046512\n",
      "Classification Report (Test):\n",
      "              precision    recall  f1-score   support\n",
      "\n",
      "           0       0.95      1.00      0.97       163\n",
      "           1       0.00      0.00      0.00         9\n",
      "\n",
      "    accuracy                           0.95       172\n",
      "   macro avg       0.47      0.50      0.49       172\n",
      "weighted avg       0.90      0.95      0.92       172\n",
      "\n",
      "\n",
      "\n",
      "Test set accuracy for each target variable:\n",
      "Hinselmann: 0.9651162790697675\n",
      "Schiller: 0.936046511627907\n",
      "Citology: 0.9767441860465116\n",
      "Biopsy: 0.9476744186046512\n"
     ]
    }
   ],
   "source": [
    "# Evaluate the best model on the test set\n",
    "# This dictionary will store the accuracy results for each target column.\n",
    "test_results_Hybrid = {}\n",
    "#Iterate over each target with the corresponding best parameters Hybrid (NN-KNN) model to evaluate the performance.\n",
    "for target_column, model in best_Hybridknn_classifiers.items():\n",
    "    \n",
    "    # Evaluate on the test set\n",
    "    y_test_pred = model.predict(X_test_features)\n",
    "    y_test_pred = (y_test_pred > 0.5).astype(int) \n",
    "    print(f\"Test set performance after hyperparameter tuning for target '{target_column}':\")\n",
    "    \n",
    "    # Print confusion matrix for test set\n",
    "    print(\"Confusion Matrix (Test):\")\n",
    "    print(confusion_matrix(y_test[target_column], y_test_pred))\n",
    "    \n",
    "    # Print accuracy score for test set\n",
    "    print(\"Accuracy Score (Test):\")\n",
    "    test_results_Hybrid[target_column]= accuracy_score(y_test[target_column], y_test_pred)\n",
    "    print( test_results_Hybrid[target_column])\n",
    "    \n",
    "    # Print classification report for test set\n",
    "    print(\"Classification Report (Test):\")\n",
    "    print(classification_report(y_test[target_column], y_test_pred, zero_division=0))\n",
    "    print(\"\\n\")\n",
    "    \n",
    "# Print overall test results\n",
    "print('Test set accuracy for each target variable:')\n",
    "for target, result in test_results_Hybrid.items():\n",
    "    print(f'{target}: {result}')\n"
   ]
  },
  {
   "cell_type": "markdown",
   "id": "7fa99ec6",
   "metadata": {},
   "source": [
    "#### Comparison Between Neural Network and Hybrid (NN-KNN)"
   ]
  },
  {
   "cell_type": "code",
   "execution_count": 74,
   "id": "4490fb6d",
   "metadata": {},
   "outputs": [
    {
     "name": "stdout",
     "output_type": "stream",
     "text": [
      "6/6 [==============================] - 0s 3ms/step\n",
      "6/6 [==============================] - 0s 2ms/step\n",
      "6/6 [==============================] - 0s 2ms/step\n",
      "6/6 [==============================] - 0s 2ms/step\n",
      "6/6 [==============================] - 0s 2ms/step\n",
      "6/6 [==============================] - 0s 2ms/step\n",
      "6/6 [==============================] - 0s 2ms/step\n",
      "6/6 [==============================] - 0s 2ms/step\n"
     ]
    },
    {
     "data": {
      "application/vnd.plotly.v1+json": {
       "config": {
        "plotlyServerURL": "https://plot.ly"
       },
       "data": [
        {
         "marker": {
          "color": "rgba(50, 171, 96, 0.6)"
         },
         "name": "Neural Network",
         "type": "bar",
         "x": [
          "Hinselmann",
          "Schiller",
          "Citology",
          "Biopsy"
         ],
         "xaxis": "x",
         "y": [
          0.9709302325581395,
          0.936046511627907,
          0.9767441860465116,
          0.9418604651162791
         ],
         "yaxis": "y"
        },
        {
         "marker": {
          "color": "rgba(255, 140, 0, 0.6)"
         },
         "name": "Hybrid Model",
         "type": "bar",
         "x": [
          "Hinselmann",
          "Schiller",
          "Citology",
          "Biopsy"
         ],
         "xaxis": "x",
         "y": [
          0.9651162790697675,
          0.936046511627907,
          0.9767441860465116,
          0.9476744186046512
         ],
         "yaxis": "y"
        },
        {
         "marker": {
          "color": "rgba(50, 171, 96, 0.6)"
         },
         "name": "Neural Network",
         "type": "bar",
         "x": [
          "Hinselmann",
          "Schiller",
          "Citology",
          "Biopsy"
         ],
         "xaxis": "x2",
         "y": [
          0.9427055164954029,
          0.8761830719307735,
          0.9540292049756623,
          0.8977968176254589
         ],
         "yaxis": "y2"
        },
        {
         "marker": {
          "color": "rgba(255, 140, 0, 0.6)"
         },
         "name": "Hybrid Model",
         "type": "bar",
         "x": [
          "Hinselmann",
          "Schiller",
          "Citology",
          "Biopsy"
         ],
         "xaxis": "x2",
         "y": [
          0.9425404596763226,
          0.8761830719307735,
          0.9540292049756623,
          0.8980868036776637
         ],
         "yaxis": "y2"
        },
        {
         "marker": {
          "color": "rgba(50, 171, 96, 0.6)"
         },
         "name": "Neural Network",
         "type": "bar",
         "x": [
          "Hinselmann",
          "Schiller",
          "Citology",
          "Biopsy"
         ],
         "xaxis": "x3",
         "y": [
          0.9709302325581395,
          0.936046511627907,
          0.9767441860465116,
          0.9418604651162791
         ],
         "yaxis": "y3"
        },
        {
         "marker": {
          "color": "rgba(255, 140, 0, 0.6)"
         },
         "name": "Hybrid Model",
         "type": "bar",
         "x": [
          "Hinselmann",
          "Schiller",
          "Citology",
          "Biopsy"
         ],
         "xaxis": "x3",
         "y": [
          0.9651162790697675,
          0.936046511627907,
          0.9767441860465116,
          0.9476744186046512
         ],
         "yaxis": "y3"
        },
        {
         "marker": {
          "color": "rgba(50, 171, 96, 0.6)"
         },
         "name": "Neural Network",
         "type": "bar",
         "x": [
          "Hinselmann",
          "Schiller",
          "Citology",
          "Biopsy"
         ],
         "xaxis": "x4",
         "y": [
          0.9566097276531522,
          0.905126056288847,
          0.9652530779753761,
          0.9193009330176857
         ],
         "yaxis": "y4"
        },
        {
         "marker": {
          "color": "rgba(255, 140, 0, 0.6)"
         },
         "name": "Hybrid Model",
         "type": "bar",
         "x": [
          "Hinselmann",
          "Schiller",
          "Citology",
          "Biopsy"
         ],
         "xaxis": "x4",
         "y": [
          0.9536947846429062,
          0.905126056288847,
          0.9652530779753761,
          0.9222145088510935
         ],
         "yaxis": "y4"
        }
       ],
       "layout": {
        "annotations": [
         {
          "font": {
           "size": 16
          },
          "showarrow": false,
          "text": "Accuracy Comparison",
          "x": 0.225,
          "xanchor": "center",
          "xref": "paper",
          "y": 1,
          "yanchor": "bottom",
          "yref": "paper"
         },
         {
          "font": {
           "size": 16
          },
          "showarrow": false,
          "text": "Precision Comparison",
          "x": 0.775,
          "xanchor": "center",
          "xref": "paper",
          "y": 1,
          "yanchor": "bottom",
          "yref": "paper"
         },
         {
          "font": {
           "size": 16
          },
          "showarrow": false,
          "text": "Recall Comparison",
          "x": 0.225,
          "xanchor": "center",
          "xref": "paper",
          "y": 0.375,
          "yanchor": "bottom",
          "yref": "paper"
         },
         {
          "font": {
           "size": 16
          },
          "showarrow": false,
          "text": "F1 Score Comparison",
          "x": 0.775,
          "xanchor": "center",
          "xref": "paper",
          "y": 0.375,
          "yanchor": "bottom",
          "yref": "paper"
         }
        ],
        "height": 800,
        "template": {
         "data": {
          "bar": [
           {
            "error_x": {
             "color": "#2a3f5f"
            },
            "error_y": {
             "color": "#2a3f5f"
            },
            "marker": {
             "line": {
              "color": "#E5ECF6",
              "width": 0.5
             },
             "pattern": {
              "fillmode": "overlay",
              "size": 10,
              "solidity": 0.2
             }
            },
            "type": "bar"
           }
          ],
          "barpolar": [
           {
            "marker": {
             "line": {
              "color": "#E5ECF6",
              "width": 0.5
             },
             "pattern": {
              "fillmode": "overlay",
              "size": 10,
              "solidity": 0.2
             }
            },
            "type": "barpolar"
           }
          ],
          "carpet": [
           {
            "aaxis": {
             "endlinecolor": "#2a3f5f",
             "gridcolor": "white",
             "linecolor": "white",
             "minorgridcolor": "white",
             "startlinecolor": "#2a3f5f"
            },
            "baxis": {
             "endlinecolor": "#2a3f5f",
             "gridcolor": "white",
             "linecolor": "white",
             "minorgridcolor": "white",
             "startlinecolor": "#2a3f5f"
            },
            "type": "carpet"
           }
          ],
          "choropleth": [
           {
            "colorbar": {
             "outlinewidth": 0,
             "ticks": ""
            },
            "type": "choropleth"
           }
          ],
          "contour": [
           {
            "colorbar": {
             "outlinewidth": 0,
             "ticks": ""
            },
            "colorscale": [
             [
              0,
              "#0d0887"
             ],
             [
              0.1111111111111111,
              "#46039f"
             ],
             [
              0.2222222222222222,
              "#7201a8"
             ],
             [
              0.3333333333333333,
              "#9c179e"
             ],
             [
              0.4444444444444444,
              "#bd3786"
             ],
             [
              0.5555555555555556,
              "#d8576b"
             ],
             [
              0.6666666666666666,
              "#ed7953"
             ],
             [
              0.7777777777777778,
              "#fb9f3a"
             ],
             [
              0.8888888888888888,
              "#fdca26"
             ],
             [
              1,
              "#f0f921"
             ]
            ],
            "type": "contour"
           }
          ],
          "contourcarpet": [
           {
            "colorbar": {
             "outlinewidth": 0,
             "ticks": ""
            },
            "type": "contourcarpet"
           }
          ],
          "heatmap": [
           {
            "colorbar": {
             "outlinewidth": 0,
             "ticks": ""
            },
            "colorscale": [
             [
              0,
              "#0d0887"
             ],
             [
              0.1111111111111111,
              "#46039f"
             ],
             [
              0.2222222222222222,
              "#7201a8"
             ],
             [
              0.3333333333333333,
              "#9c179e"
             ],
             [
              0.4444444444444444,
              "#bd3786"
             ],
             [
              0.5555555555555556,
              "#d8576b"
             ],
             [
              0.6666666666666666,
              "#ed7953"
             ],
             [
              0.7777777777777778,
              "#fb9f3a"
             ],
             [
              0.8888888888888888,
              "#fdca26"
             ],
             [
              1,
              "#f0f921"
             ]
            ],
            "type": "heatmap"
           }
          ],
          "heatmapgl": [
           {
            "colorbar": {
             "outlinewidth": 0,
             "ticks": ""
            },
            "colorscale": [
             [
              0,
              "#0d0887"
             ],
             [
              0.1111111111111111,
              "#46039f"
             ],
             [
              0.2222222222222222,
              "#7201a8"
             ],
             [
              0.3333333333333333,
              "#9c179e"
             ],
             [
              0.4444444444444444,
              "#bd3786"
             ],
             [
              0.5555555555555556,
              "#d8576b"
             ],
             [
              0.6666666666666666,
              "#ed7953"
             ],
             [
              0.7777777777777778,
              "#fb9f3a"
             ],
             [
              0.8888888888888888,
              "#fdca26"
             ],
             [
              1,
              "#f0f921"
             ]
            ],
            "type": "heatmapgl"
           }
          ],
          "histogram": [
           {
            "marker": {
             "pattern": {
              "fillmode": "overlay",
              "size": 10,
              "solidity": 0.2
             }
            },
            "type": "histogram"
           }
          ],
          "histogram2d": [
           {
            "colorbar": {
             "outlinewidth": 0,
             "ticks": ""
            },
            "colorscale": [
             [
              0,
              "#0d0887"
             ],
             [
              0.1111111111111111,
              "#46039f"
             ],
             [
              0.2222222222222222,
              "#7201a8"
             ],
             [
              0.3333333333333333,
              "#9c179e"
             ],
             [
              0.4444444444444444,
              "#bd3786"
             ],
             [
              0.5555555555555556,
              "#d8576b"
             ],
             [
              0.6666666666666666,
              "#ed7953"
             ],
             [
              0.7777777777777778,
              "#fb9f3a"
             ],
             [
              0.8888888888888888,
              "#fdca26"
             ],
             [
              1,
              "#f0f921"
             ]
            ],
            "type": "histogram2d"
           }
          ],
          "histogram2dcontour": [
           {
            "colorbar": {
             "outlinewidth": 0,
             "ticks": ""
            },
            "colorscale": [
             [
              0,
              "#0d0887"
             ],
             [
              0.1111111111111111,
              "#46039f"
             ],
             [
              0.2222222222222222,
              "#7201a8"
             ],
             [
              0.3333333333333333,
              "#9c179e"
             ],
             [
              0.4444444444444444,
              "#bd3786"
             ],
             [
              0.5555555555555556,
              "#d8576b"
             ],
             [
              0.6666666666666666,
              "#ed7953"
             ],
             [
              0.7777777777777778,
              "#fb9f3a"
             ],
             [
              0.8888888888888888,
              "#fdca26"
             ],
             [
              1,
              "#f0f921"
             ]
            ],
            "type": "histogram2dcontour"
           }
          ],
          "mesh3d": [
           {
            "colorbar": {
             "outlinewidth": 0,
             "ticks": ""
            },
            "type": "mesh3d"
           }
          ],
          "parcoords": [
           {
            "line": {
             "colorbar": {
              "outlinewidth": 0,
              "ticks": ""
             }
            },
            "type": "parcoords"
           }
          ],
          "pie": [
           {
            "automargin": true,
            "type": "pie"
           }
          ],
          "scatter": [
           {
            "fillpattern": {
             "fillmode": "overlay",
             "size": 10,
             "solidity": 0.2
            },
            "type": "scatter"
           }
          ],
          "scatter3d": [
           {
            "line": {
             "colorbar": {
              "outlinewidth": 0,
              "ticks": ""
             }
            },
            "marker": {
             "colorbar": {
              "outlinewidth": 0,
              "ticks": ""
             }
            },
            "type": "scatter3d"
           }
          ],
          "scattercarpet": [
           {
            "marker": {
             "colorbar": {
              "outlinewidth": 0,
              "ticks": ""
             }
            },
            "type": "scattercarpet"
           }
          ],
          "scattergeo": [
           {
            "marker": {
             "colorbar": {
              "outlinewidth": 0,
              "ticks": ""
             }
            },
            "type": "scattergeo"
           }
          ],
          "scattergl": [
           {
            "marker": {
             "colorbar": {
              "outlinewidth": 0,
              "ticks": ""
             }
            },
            "type": "scattergl"
           }
          ],
          "scattermapbox": [
           {
            "marker": {
             "colorbar": {
              "outlinewidth": 0,
              "ticks": ""
             }
            },
            "type": "scattermapbox"
           }
          ],
          "scatterpolar": [
           {
            "marker": {
             "colorbar": {
              "outlinewidth": 0,
              "ticks": ""
             }
            },
            "type": "scatterpolar"
           }
          ],
          "scatterpolargl": [
           {
            "marker": {
             "colorbar": {
              "outlinewidth": 0,
              "ticks": ""
             }
            },
            "type": "scatterpolargl"
           }
          ],
          "scatterternary": [
           {
            "marker": {
             "colorbar": {
              "outlinewidth": 0,
              "ticks": ""
             }
            },
            "type": "scatterternary"
           }
          ],
          "surface": [
           {
            "colorbar": {
             "outlinewidth": 0,
             "ticks": ""
            },
            "colorscale": [
             [
              0,
              "#0d0887"
             ],
             [
              0.1111111111111111,
              "#46039f"
             ],
             [
              0.2222222222222222,
              "#7201a8"
             ],
             [
              0.3333333333333333,
              "#9c179e"
             ],
             [
              0.4444444444444444,
              "#bd3786"
             ],
             [
              0.5555555555555556,
              "#d8576b"
             ],
             [
              0.6666666666666666,
              "#ed7953"
             ],
             [
              0.7777777777777778,
              "#fb9f3a"
             ],
             [
              0.8888888888888888,
              "#fdca26"
             ],
             [
              1,
              "#f0f921"
             ]
            ],
            "type": "surface"
           }
          ],
          "table": [
           {
            "cells": {
             "fill": {
              "color": "#EBF0F8"
             },
             "line": {
              "color": "white"
             }
            },
            "header": {
             "fill": {
              "color": "#C8D4E3"
             },
             "line": {
              "color": "white"
             }
            },
            "type": "table"
           }
          ]
         },
         "layout": {
          "annotationdefaults": {
           "arrowcolor": "#2a3f5f",
           "arrowhead": 0,
           "arrowwidth": 1
          },
          "autotypenumbers": "strict",
          "coloraxis": {
           "colorbar": {
            "outlinewidth": 0,
            "ticks": ""
           }
          },
          "colorscale": {
           "diverging": [
            [
             0,
             "#8e0152"
            ],
            [
             0.1,
             "#c51b7d"
            ],
            [
             0.2,
             "#de77ae"
            ],
            [
             0.3,
             "#f1b6da"
            ],
            [
             0.4,
             "#fde0ef"
            ],
            [
             0.5,
             "#f7f7f7"
            ],
            [
             0.6,
             "#e6f5d0"
            ],
            [
             0.7,
             "#b8e186"
            ],
            [
             0.8,
             "#7fbc41"
            ],
            [
             0.9,
             "#4d9221"
            ],
            [
             1,
             "#276419"
            ]
           ],
           "sequential": [
            [
             0,
             "#0d0887"
            ],
            [
             0.1111111111111111,
             "#46039f"
            ],
            [
             0.2222222222222222,
             "#7201a8"
            ],
            [
             0.3333333333333333,
             "#9c179e"
            ],
            [
             0.4444444444444444,
             "#bd3786"
            ],
            [
             0.5555555555555556,
             "#d8576b"
            ],
            [
             0.6666666666666666,
             "#ed7953"
            ],
            [
             0.7777777777777778,
             "#fb9f3a"
            ],
            [
             0.8888888888888888,
             "#fdca26"
            ],
            [
             1,
             "#f0f921"
            ]
           ],
           "sequentialminus": [
            [
             0,
             "#0d0887"
            ],
            [
             0.1111111111111111,
             "#46039f"
            ],
            [
             0.2222222222222222,
             "#7201a8"
            ],
            [
             0.3333333333333333,
             "#9c179e"
            ],
            [
             0.4444444444444444,
             "#bd3786"
            ],
            [
             0.5555555555555556,
             "#d8576b"
            ],
            [
             0.6666666666666666,
             "#ed7953"
            ],
            [
             0.7777777777777778,
             "#fb9f3a"
            ],
            [
             0.8888888888888888,
             "#fdca26"
            ],
            [
             1,
             "#f0f921"
            ]
           ]
          },
          "colorway": [
           "#636efa",
           "#EF553B",
           "#00cc96",
           "#ab63fa",
           "#FFA15A",
           "#19d3f3",
           "#FF6692",
           "#B6E880",
           "#FF97FF",
           "#FECB52"
          ],
          "font": {
           "color": "#2a3f5f"
          },
          "geo": {
           "bgcolor": "white",
           "lakecolor": "white",
           "landcolor": "#E5ECF6",
           "showlakes": true,
           "showland": true,
           "subunitcolor": "white"
          },
          "hoverlabel": {
           "align": "left"
          },
          "hovermode": "closest",
          "mapbox": {
           "style": "light"
          },
          "paper_bgcolor": "white",
          "plot_bgcolor": "#E5ECF6",
          "polar": {
           "angularaxis": {
            "gridcolor": "white",
            "linecolor": "white",
            "ticks": ""
           },
           "bgcolor": "#E5ECF6",
           "radialaxis": {
            "gridcolor": "white",
            "linecolor": "white",
            "ticks": ""
           }
          },
          "scene": {
           "xaxis": {
            "backgroundcolor": "#E5ECF6",
            "gridcolor": "white",
            "gridwidth": 2,
            "linecolor": "white",
            "showbackground": true,
            "ticks": "",
            "zerolinecolor": "white"
           },
           "yaxis": {
            "backgroundcolor": "#E5ECF6",
            "gridcolor": "white",
            "gridwidth": 2,
            "linecolor": "white",
            "showbackground": true,
            "ticks": "",
            "zerolinecolor": "white"
           },
           "zaxis": {
            "backgroundcolor": "#E5ECF6",
            "gridcolor": "white",
            "gridwidth": 2,
            "linecolor": "white",
            "showbackground": true,
            "ticks": "",
            "zerolinecolor": "white"
           }
          },
          "shapedefaults": {
           "line": {
            "color": "#2a3f5f"
           }
          },
          "ternary": {
           "aaxis": {
            "gridcolor": "white",
            "linecolor": "white",
            "ticks": ""
           },
           "baxis": {
            "gridcolor": "white",
            "linecolor": "white",
            "ticks": ""
           },
           "bgcolor": "#E5ECF6",
           "caxis": {
            "gridcolor": "white",
            "linecolor": "white",
            "ticks": ""
           }
          },
          "title": {
           "x": 0.05
          },
          "xaxis": {
           "automargin": true,
           "gridcolor": "white",
           "linecolor": "white",
           "ticks": "",
           "title": {
            "standoff": 15
           },
           "zerolinecolor": "white",
           "zerolinewidth": 2
          },
          "yaxis": {
           "automargin": true,
           "gridcolor": "white",
           "linecolor": "white",
           "ticks": "",
           "title": {
            "standoff": 15
           },
           "zerolinecolor": "white",
           "zerolinewidth": 2
          }
         }
        },
        "title": {
         "text": "Metric Comparison for Neural Network and Hybrid Models"
        },
        "width": 900,
        "xaxis": {
         "anchor": "y",
         "domain": [
          0,
          0.45
         ],
         "title": {
          "text": "Target Columns"
         }
        },
        "xaxis2": {
         "anchor": "y2",
         "domain": [
          0.55,
          1
         ],
         "title": {
          "text": "Target Columns"
         }
        },
        "xaxis3": {
         "anchor": "y3",
         "domain": [
          0,
          0.45
         ],
         "title": {
          "text": "Target Columns"
         }
        },
        "xaxis4": {
         "anchor": "y4",
         "domain": [
          0.55,
          1
         ],
         "title": {
          "text": "Target Columns"
         }
        },
        "yaxis": {
         "anchor": "x",
         "domain": [
          0.625,
          1
         ],
         "title": {
          "text": "Metric Value"
         }
        },
        "yaxis2": {
         "anchor": "x2",
         "domain": [
          0.625,
          1
         ],
         "title": {
          "text": "Metric Value"
         }
        },
        "yaxis3": {
         "anchor": "x3",
         "domain": [
          0,
          0.375
         ],
         "title": {
          "text": "Metric Value"
         }
        },
        "yaxis4": {
         "anchor": "x4",
         "domain": [
          0,
          0.375
         ],
         "title": {
          "text": "Metric Value"
         }
        }
       }
      },
      "text/html": [
       "<div>                            <div id=\"fbbd803a-cbc2-4060-86a6-f22b86dd1f91\" class=\"plotly-graph-div\" style=\"height:800px; width:900px;\"></div>            <script type=\"text/javascript\">                require([\"plotly\"], function(Plotly) {                    window.PLOTLYENV=window.PLOTLYENV || {};                                    if (document.getElementById(\"fbbd803a-cbc2-4060-86a6-f22b86dd1f91\")) {                    Plotly.newPlot(                        \"fbbd803a-cbc2-4060-86a6-f22b86dd1f91\",                        [{\"marker\":{\"color\":\"rgba(50, 171, 96, 0.6)\"},\"name\":\"Neural Network\",\"x\":[\"Hinselmann\",\"Schiller\",\"Citology\",\"Biopsy\"],\"y\":[0.9709302325581395,0.936046511627907,0.9767441860465116,0.9418604651162791],\"type\":\"bar\",\"xaxis\":\"x\",\"yaxis\":\"y\"},{\"marker\":{\"color\":\"rgba(255, 140, 0, 0.6)\"},\"name\":\"Hybrid Model\",\"x\":[\"Hinselmann\",\"Schiller\",\"Citology\",\"Biopsy\"],\"y\":[0.9651162790697675,0.936046511627907,0.9767441860465116,0.9476744186046512],\"type\":\"bar\",\"xaxis\":\"x\",\"yaxis\":\"y\"},{\"marker\":{\"color\":\"rgba(50, 171, 96, 0.6)\"},\"name\":\"Neural Network\",\"x\":[\"Hinselmann\",\"Schiller\",\"Citology\",\"Biopsy\"],\"y\":[0.9427055164954029,0.8761830719307735,0.9540292049756623,0.8977968176254589],\"type\":\"bar\",\"xaxis\":\"x2\",\"yaxis\":\"y2\"},{\"marker\":{\"color\":\"rgba(255, 140, 0, 0.6)\"},\"name\":\"Hybrid Model\",\"x\":[\"Hinselmann\",\"Schiller\",\"Citology\",\"Biopsy\"],\"y\":[0.9425404596763226,0.8761830719307735,0.9540292049756623,0.8980868036776637],\"type\":\"bar\",\"xaxis\":\"x2\",\"yaxis\":\"y2\"},{\"marker\":{\"color\":\"rgba(50, 171, 96, 0.6)\"},\"name\":\"Neural Network\",\"x\":[\"Hinselmann\",\"Schiller\",\"Citology\",\"Biopsy\"],\"y\":[0.9709302325581395,0.936046511627907,0.9767441860465116,0.9418604651162791],\"type\":\"bar\",\"xaxis\":\"x3\",\"yaxis\":\"y3\"},{\"marker\":{\"color\":\"rgba(255, 140, 0, 0.6)\"},\"name\":\"Hybrid Model\",\"x\":[\"Hinselmann\",\"Schiller\",\"Citology\",\"Biopsy\"],\"y\":[0.9651162790697675,0.936046511627907,0.9767441860465116,0.9476744186046512],\"type\":\"bar\",\"xaxis\":\"x3\",\"yaxis\":\"y3\"},{\"marker\":{\"color\":\"rgba(50, 171, 96, 0.6)\"},\"name\":\"Neural Network\",\"x\":[\"Hinselmann\",\"Schiller\",\"Citology\",\"Biopsy\"],\"y\":[0.9566097276531522,0.905126056288847,0.9652530779753761,0.9193009330176857],\"type\":\"bar\",\"xaxis\":\"x4\",\"yaxis\":\"y4\"},{\"marker\":{\"color\":\"rgba(255, 140, 0, 0.6)\"},\"name\":\"Hybrid Model\",\"x\":[\"Hinselmann\",\"Schiller\",\"Citology\",\"Biopsy\"],\"y\":[0.9536947846429062,0.905126056288847,0.9652530779753761,0.9222145088510935],\"type\":\"bar\",\"xaxis\":\"x4\",\"yaxis\":\"y4\"}],                        {\"template\":{\"data\":{\"histogram2dcontour\":[{\"type\":\"histogram2dcontour\",\"colorbar\":{\"outlinewidth\":0,\"ticks\":\"\"},\"colorscale\":[[0.0,\"#0d0887\"],[0.1111111111111111,\"#46039f\"],[0.2222222222222222,\"#7201a8\"],[0.3333333333333333,\"#9c179e\"],[0.4444444444444444,\"#bd3786\"],[0.5555555555555556,\"#d8576b\"],[0.6666666666666666,\"#ed7953\"],[0.7777777777777778,\"#fb9f3a\"],[0.8888888888888888,\"#fdca26\"],[1.0,\"#f0f921\"]]}],\"choropleth\":[{\"type\":\"choropleth\",\"colorbar\":{\"outlinewidth\":0,\"ticks\":\"\"}}],\"histogram2d\":[{\"type\":\"histogram2d\",\"colorbar\":{\"outlinewidth\":0,\"ticks\":\"\"},\"colorscale\":[[0.0,\"#0d0887\"],[0.1111111111111111,\"#46039f\"],[0.2222222222222222,\"#7201a8\"],[0.3333333333333333,\"#9c179e\"],[0.4444444444444444,\"#bd3786\"],[0.5555555555555556,\"#d8576b\"],[0.6666666666666666,\"#ed7953\"],[0.7777777777777778,\"#fb9f3a\"],[0.8888888888888888,\"#fdca26\"],[1.0,\"#f0f921\"]]}],\"heatmap\":[{\"type\":\"heatmap\",\"colorbar\":{\"outlinewidth\":0,\"ticks\":\"\"},\"colorscale\":[[0.0,\"#0d0887\"],[0.1111111111111111,\"#46039f\"],[0.2222222222222222,\"#7201a8\"],[0.3333333333333333,\"#9c179e\"],[0.4444444444444444,\"#bd3786\"],[0.5555555555555556,\"#d8576b\"],[0.6666666666666666,\"#ed7953\"],[0.7777777777777778,\"#fb9f3a\"],[0.8888888888888888,\"#fdca26\"],[1.0,\"#f0f921\"]]}],\"heatmapgl\":[{\"type\":\"heatmapgl\",\"colorbar\":{\"outlinewidth\":0,\"ticks\":\"\"},\"colorscale\":[[0.0,\"#0d0887\"],[0.1111111111111111,\"#46039f\"],[0.2222222222222222,\"#7201a8\"],[0.3333333333333333,\"#9c179e\"],[0.4444444444444444,\"#bd3786\"],[0.5555555555555556,\"#d8576b\"],[0.6666666666666666,\"#ed7953\"],[0.7777777777777778,\"#fb9f3a\"],[0.8888888888888888,\"#fdca26\"],[1.0,\"#f0f921\"]]}],\"contourcarpet\":[{\"type\":\"contourcarpet\",\"colorbar\":{\"outlinewidth\":0,\"ticks\":\"\"}}],\"contour\":[{\"type\":\"contour\",\"colorbar\":{\"outlinewidth\":0,\"ticks\":\"\"},\"colorscale\":[[0.0,\"#0d0887\"],[0.1111111111111111,\"#46039f\"],[0.2222222222222222,\"#7201a8\"],[0.3333333333333333,\"#9c179e\"],[0.4444444444444444,\"#bd3786\"],[0.5555555555555556,\"#d8576b\"],[0.6666666666666666,\"#ed7953\"],[0.7777777777777778,\"#fb9f3a\"],[0.8888888888888888,\"#fdca26\"],[1.0,\"#f0f921\"]]}],\"surface\":[{\"type\":\"surface\",\"colorbar\":{\"outlinewidth\":0,\"ticks\":\"\"},\"colorscale\":[[0.0,\"#0d0887\"],[0.1111111111111111,\"#46039f\"],[0.2222222222222222,\"#7201a8\"],[0.3333333333333333,\"#9c179e\"],[0.4444444444444444,\"#bd3786\"],[0.5555555555555556,\"#d8576b\"],[0.6666666666666666,\"#ed7953\"],[0.7777777777777778,\"#fb9f3a\"],[0.8888888888888888,\"#fdca26\"],[1.0,\"#f0f921\"]]}],\"mesh3d\":[{\"type\":\"mesh3d\",\"colorbar\":{\"outlinewidth\":0,\"ticks\":\"\"}}],\"scatter\":[{\"fillpattern\":{\"fillmode\":\"overlay\",\"size\":10,\"solidity\":0.2},\"type\":\"scatter\"}],\"parcoords\":[{\"type\":\"parcoords\",\"line\":{\"colorbar\":{\"outlinewidth\":0,\"ticks\":\"\"}}}],\"scatterpolargl\":[{\"type\":\"scatterpolargl\",\"marker\":{\"colorbar\":{\"outlinewidth\":0,\"ticks\":\"\"}}}],\"bar\":[{\"error_x\":{\"color\":\"#2a3f5f\"},\"error_y\":{\"color\":\"#2a3f5f\"},\"marker\":{\"line\":{\"color\":\"#E5ECF6\",\"width\":0.5},\"pattern\":{\"fillmode\":\"overlay\",\"size\":10,\"solidity\":0.2}},\"type\":\"bar\"}],\"scattergeo\":[{\"type\":\"scattergeo\",\"marker\":{\"colorbar\":{\"outlinewidth\":0,\"ticks\":\"\"}}}],\"scatterpolar\":[{\"type\":\"scatterpolar\",\"marker\":{\"colorbar\":{\"outlinewidth\":0,\"ticks\":\"\"}}}],\"histogram\":[{\"marker\":{\"pattern\":{\"fillmode\":\"overlay\",\"size\":10,\"solidity\":0.2}},\"type\":\"histogram\"}],\"scattergl\":[{\"type\":\"scattergl\",\"marker\":{\"colorbar\":{\"outlinewidth\":0,\"ticks\":\"\"}}}],\"scatter3d\":[{\"type\":\"scatter3d\",\"line\":{\"colorbar\":{\"outlinewidth\":0,\"ticks\":\"\"}},\"marker\":{\"colorbar\":{\"outlinewidth\":0,\"ticks\":\"\"}}}],\"scattermapbox\":[{\"type\":\"scattermapbox\",\"marker\":{\"colorbar\":{\"outlinewidth\":0,\"ticks\":\"\"}}}],\"scatterternary\":[{\"type\":\"scatterternary\",\"marker\":{\"colorbar\":{\"outlinewidth\":0,\"ticks\":\"\"}}}],\"scattercarpet\":[{\"type\":\"scattercarpet\",\"marker\":{\"colorbar\":{\"outlinewidth\":0,\"ticks\":\"\"}}}],\"carpet\":[{\"aaxis\":{\"endlinecolor\":\"#2a3f5f\",\"gridcolor\":\"white\",\"linecolor\":\"white\",\"minorgridcolor\":\"white\",\"startlinecolor\":\"#2a3f5f\"},\"baxis\":{\"endlinecolor\":\"#2a3f5f\",\"gridcolor\":\"white\",\"linecolor\":\"white\",\"minorgridcolor\":\"white\",\"startlinecolor\":\"#2a3f5f\"},\"type\":\"carpet\"}],\"table\":[{\"cells\":{\"fill\":{\"color\":\"#EBF0F8\"},\"line\":{\"color\":\"white\"}},\"header\":{\"fill\":{\"color\":\"#C8D4E3\"},\"line\":{\"color\":\"white\"}},\"type\":\"table\"}],\"barpolar\":[{\"marker\":{\"line\":{\"color\":\"#E5ECF6\",\"width\":0.5},\"pattern\":{\"fillmode\":\"overlay\",\"size\":10,\"solidity\":0.2}},\"type\":\"barpolar\"}],\"pie\":[{\"automargin\":true,\"type\":\"pie\"}]},\"layout\":{\"autotypenumbers\":\"strict\",\"colorway\":[\"#636efa\",\"#EF553B\",\"#00cc96\",\"#ab63fa\",\"#FFA15A\",\"#19d3f3\",\"#FF6692\",\"#B6E880\",\"#FF97FF\",\"#FECB52\"],\"font\":{\"color\":\"#2a3f5f\"},\"hovermode\":\"closest\",\"hoverlabel\":{\"align\":\"left\"},\"paper_bgcolor\":\"white\",\"plot_bgcolor\":\"#E5ECF6\",\"polar\":{\"bgcolor\":\"#E5ECF6\",\"angularaxis\":{\"gridcolor\":\"white\",\"linecolor\":\"white\",\"ticks\":\"\"},\"radialaxis\":{\"gridcolor\":\"white\",\"linecolor\":\"white\",\"ticks\":\"\"}},\"ternary\":{\"bgcolor\":\"#E5ECF6\",\"aaxis\":{\"gridcolor\":\"white\",\"linecolor\":\"white\",\"ticks\":\"\"},\"baxis\":{\"gridcolor\":\"white\",\"linecolor\":\"white\",\"ticks\":\"\"},\"caxis\":{\"gridcolor\":\"white\",\"linecolor\":\"white\",\"ticks\":\"\"}},\"coloraxis\":{\"colorbar\":{\"outlinewidth\":0,\"ticks\":\"\"}},\"colorscale\":{\"sequential\":[[0.0,\"#0d0887\"],[0.1111111111111111,\"#46039f\"],[0.2222222222222222,\"#7201a8\"],[0.3333333333333333,\"#9c179e\"],[0.4444444444444444,\"#bd3786\"],[0.5555555555555556,\"#d8576b\"],[0.6666666666666666,\"#ed7953\"],[0.7777777777777778,\"#fb9f3a\"],[0.8888888888888888,\"#fdca26\"],[1.0,\"#f0f921\"]],\"sequentialminus\":[[0.0,\"#0d0887\"],[0.1111111111111111,\"#46039f\"],[0.2222222222222222,\"#7201a8\"],[0.3333333333333333,\"#9c179e\"],[0.4444444444444444,\"#bd3786\"],[0.5555555555555556,\"#d8576b\"],[0.6666666666666666,\"#ed7953\"],[0.7777777777777778,\"#fb9f3a\"],[0.8888888888888888,\"#fdca26\"],[1.0,\"#f0f921\"]],\"diverging\":[[0,\"#8e0152\"],[0.1,\"#c51b7d\"],[0.2,\"#de77ae\"],[0.3,\"#f1b6da\"],[0.4,\"#fde0ef\"],[0.5,\"#f7f7f7\"],[0.6,\"#e6f5d0\"],[0.7,\"#b8e186\"],[0.8,\"#7fbc41\"],[0.9,\"#4d9221\"],[1,\"#276419\"]]},\"xaxis\":{\"gridcolor\":\"white\",\"linecolor\":\"white\",\"ticks\":\"\",\"title\":{\"standoff\":15},\"zerolinecolor\":\"white\",\"automargin\":true,\"zerolinewidth\":2},\"yaxis\":{\"gridcolor\":\"white\",\"linecolor\":\"white\",\"ticks\":\"\",\"title\":{\"standoff\":15},\"zerolinecolor\":\"white\",\"automargin\":true,\"zerolinewidth\":2},\"scene\":{\"xaxis\":{\"backgroundcolor\":\"#E5ECF6\",\"gridcolor\":\"white\",\"linecolor\":\"white\",\"showbackground\":true,\"ticks\":\"\",\"zerolinecolor\":\"white\",\"gridwidth\":2},\"yaxis\":{\"backgroundcolor\":\"#E5ECF6\",\"gridcolor\":\"white\",\"linecolor\":\"white\",\"showbackground\":true,\"ticks\":\"\",\"zerolinecolor\":\"white\",\"gridwidth\":2},\"zaxis\":{\"backgroundcolor\":\"#E5ECF6\",\"gridcolor\":\"white\",\"linecolor\":\"white\",\"showbackground\":true,\"ticks\":\"\",\"zerolinecolor\":\"white\",\"gridwidth\":2}},\"shapedefaults\":{\"line\":{\"color\":\"#2a3f5f\"}},\"annotationdefaults\":{\"arrowcolor\":\"#2a3f5f\",\"arrowhead\":0,\"arrowwidth\":1},\"geo\":{\"bgcolor\":\"white\",\"landcolor\":\"#E5ECF6\",\"subunitcolor\":\"white\",\"showland\":true,\"showlakes\":true,\"lakecolor\":\"white\"},\"title\":{\"x\":0.05},\"mapbox\":{\"style\":\"light\"}}},\"xaxis\":{\"anchor\":\"y\",\"domain\":[0.0,0.45],\"title\":{\"text\":\"Target Columns\"}},\"yaxis\":{\"anchor\":\"x\",\"domain\":[0.625,1.0],\"title\":{\"text\":\"Metric Value\"}},\"xaxis2\":{\"anchor\":\"y2\",\"domain\":[0.55,1.0],\"title\":{\"text\":\"Target Columns\"}},\"yaxis2\":{\"anchor\":\"x2\",\"domain\":[0.625,1.0],\"title\":{\"text\":\"Metric Value\"}},\"xaxis3\":{\"anchor\":\"y3\",\"domain\":[0.0,0.45],\"title\":{\"text\":\"Target Columns\"}},\"yaxis3\":{\"anchor\":\"x3\",\"domain\":[0.0,0.375],\"title\":{\"text\":\"Metric Value\"}},\"xaxis4\":{\"anchor\":\"y4\",\"domain\":[0.55,1.0],\"title\":{\"text\":\"Target Columns\"}},\"yaxis4\":{\"anchor\":\"x4\",\"domain\":[0.0,0.375],\"title\":{\"text\":\"Metric Value\"}},\"annotations\":[{\"font\":{\"size\":16},\"showarrow\":false,\"text\":\"Accuracy Comparison\",\"x\":0.225,\"xanchor\":\"center\",\"xref\":\"paper\",\"y\":1.0,\"yanchor\":\"bottom\",\"yref\":\"paper\"},{\"font\":{\"size\":16},\"showarrow\":false,\"text\":\"Precision Comparison\",\"x\":0.775,\"xanchor\":\"center\",\"xref\":\"paper\",\"y\":1.0,\"yanchor\":\"bottom\",\"yref\":\"paper\"},{\"font\":{\"size\":16},\"showarrow\":false,\"text\":\"Recall Comparison\",\"x\":0.225,\"xanchor\":\"center\",\"xref\":\"paper\",\"y\":0.375,\"yanchor\":\"bottom\",\"yref\":\"paper\"},{\"font\":{\"size\":16},\"showarrow\":false,\"text\":\"F1 Score Comparison\",\"x\":0.775,\"xanchor\":\"center\",\"xref\":\"paper\",\"y\":0.375,\"yanchor\":\"bottom\",\"yref\":\"paper\"}],\"title\":{\"text\":\"Metric Comparison for Neural Network and Hybrid Models\"},\"height\":800,\"width\":900},                        {\"responsive\": true}                    ).then(function(){\n",
       "                            \n",
       "var gd = document.getElementById('fbbd803a-cbc2-4060-86a6-f22b86dd1f91');\n",
       "var x = new MutationObserver(function (mutations, observer) {{\n",
       "        var display = window.getComputedStyle(gd).display;\n",
       "        if (!display || display === 'none') {{\n",
       "            console.log([gd, 'removed!']);\n",
       "            Plotly.purge(gd);\n",
       "            observer.disconnect();\n",
       "        }}\n",
       "}});\n",
       "\n",
       "// Listen for the removal of the full notebook cells\n",
       "var notebookContainer = gd.closest('#notebook-container');\n",
       "if (notebookContainer) {{\n",
       "    x.observe(notebookContainer, {childList: true});\n",
       "}}\n",
       "\n",
       "// Listen for the clearing of the current output cell\n",
       "var outputEl = gd.closest('.output');\n",
       "if (outputEl) {{\n",
       "    x.observe(outputEl, {childList: true});\n",
       "}}\n",
       "\n",
       "                        })                };                });            </script>        </div>"
      ]
     },
     "metadata": {},
     "output_type": "display_data"
    }
   ],
   "source": [
    "import plotly.graph_objs as go\n",
    "from plotly.subplots import make_subplots\n",
    "import numpy as np\n",
    "from sklearn.metrics import accuracy_score, precision_score, recall_score, f1_score\n",
    "\n",
    "# Initialize dictionaries to store performance metrics\n",
    "metrics_nn = {'Accuracy': [], 'Precision': [], 'Recall': [], 'F1 Score': []}\n",
    "metrics_hybrid = {'Accuracy': [], 'Precision': [], 'Recall': [], 'F1 Score': []}\n",
    "\n",
    "# Function to evaluate a model and return all necessary metrics\n",
    "def evaluate_model(model, X_test, y_test, target_column):\n",
    "    y_test_pred = model.predict(X_test)\n",
    "    y_test_pred = (y_test_pred > 0.5).astype(int)  # Assuming binary classification\n",
    "    \n",
    "    accuracy = accuracy_score(y_test, y_test_pred)\n",
    "    precision = precision_score(y_test, y_test_pred, average='weighted', zero_division=0)\n",
    "    recall = recall_score(y_test, y_test_pred, average='weighted', zero_division=0)\n",
    "    f1 = f1_score(y_test, y_test_pred, average='weighted', zero_division=0)\n",
    "    \n",
    "    return accuracy, precision, recall, f1\n",
    "\n",
    "# Evaluate neural network model and store metrics\n",
    "for target_column, model in best_nn_classifier.items():\n",
    "    X_test_nn = tf.convert_to_tensor(X_test_selected, dtype=tf.float32)\n",
    "    y_test_nn = tf.convert_to_tensor(y_test[target_column].values, dtype=tf.float32)\n",
    "    \n",
    "#     # Create the model with best parameters\n",
    "#     model_nn = create_model(X_test_nn.shape[1], **best_params['best_params'])\n",
    "    \n",
    "#     # Train the model on the full training set with best parameters\n",
    "#     model_nn.fit(X_train_nn, y_train_nn, epochs=50, batch_size=32, verbose=0)\n",
    "    \n",
    "    # Evaluate the model\n",
    "    acc_nn, prec_nn, rec_nn, f1_nn = evaluate_model(model, X_test_nn, y_test_nn, target_column)\n",
    "    metrics_nn['Accuracy'].append(acc_nn)\n",
    "    metrics_nn['Precision'].append(prec_nn)\n",
    "    metrics_nn['Recall'].append(rec_nn)\n",
    "    metrics_nn['F1 Score'].append(f1_nn)\n",
    "\n",
    "# Evaluate hybrid model and store metrics\n",
    "for target_column, model in best_Hybridknn_classifiers.items():\n",
    "    X_test_features = feature_extractor.predict(X_test_scaled)\n",
    "    \n",
    "    # Evaluate the model\n",
    "    acc_hybrid, prec_hybrid, rec_hybrid, f1_hybrid = evaluate_model(model, X_test_features, y_test[target_column], target_column)\n",
    "    metrics_hybrid['Accuracy'].append(acc_hybrid)\n",
    "    metrics_hybrid['Precision'].append(prec_hybrid)\n",
    "    metrics_hybrid['Recall'].append(rec_hybrid)\n",
    "    metrics_hybrid['F1 Score'].append(f1_hybrid)\n",
    "\n",
    "# Plotting function using Plotly\n",
    "def plot_metric_comparison(metrics_nn, metrics_hybrid, target_columns):\n",
    "    labels = target_columns\n",
    "    x = np.arange(len(labels))  # the label locations\n",
    "    \n",
    "    fig = make_subplots(rows=2, cols=2, subplot_titles=('Accuracy Comparison', 'Precision Comparison', 'Recall Comparison', 'F1 Score Comparison'))\n",
    "    \n",
    "    # Accuracy comparison\n",
    "    fig.add_trace(go.Bar(x=labels, y=metrics_nn['Accuracy'], name='Neural Network', marker_color='rgba(50, 171, 96, 0.6)'), row=1, col=1)\n",
    "    fig.add_trace(go.Bar(x=labels, y=metrics_hybrid['Accuracy'], name='Hybrid Model', marker_color='rgba(255, 140, 0, 0.6)'), row=1, col=1)\n",
    "    \n",
    "    # Precision comparison\n",
    "    fig.add_trace(go.Bar(x=labels, y=metrics_nn['Precision'], name='Neural Network', marker_color='rgba(50, 171, 96, 0.6)'), row=1, col=2)\n",
    "    fig.add_trace(go.Bar(x=labels, y=metrics_hybrid['Precision'], name='Hybrid Model', marker_color='rgba(255, 140, 0, 0.6)'), row=1, col=2)\n",
    "    \n",
    "    # Recall comparison\n",
    "    fig.add_trace(go.Bar(x=labels, y=metrics_nn['Recall'], name='Neural Network', marker_color='rgba(50, 171, 96, 0.6)'), row=2, col=1)\n",
    "    fig.add_trace(go.Bar(x=labels, y=metrics_hybrid['Recall'], name='Hybrid Model', marker_color='rgba(255, 140, 0, 0.6)'), row=2, col=1)\n",
    "    \n",
    "    # F1 Score comparison\n",
    "    fig.add_trace(go.Bar(x=labels, y=metrics_nn['F1 Score'], name='Neural Network', marker_color='rgba(50, 171, 96, 0.6)'), row=2, col=2)\n",
    "    fig.add_trace(go.Bar(x=labels, y=metrics_hybrid['F1 Score'], name='Hybrid Model', marker_color='rgba(255, 140, 0, 0.6)'), row=2, col=2)\n",
    "    \n",
    "    fig.update_xaxes(title_text='Target Columns', row=1, col=1)\n",
    "    fig.update_xaxes(title_text='Target Columns', row=1, col=2)\n",
    "    fig.update_xaxes(title_text='Target Columns', row=2, col=1)\n",
    "    fig.update_xaxes(title_text='Target Columns', row=2, col=2)\n",
    "    \n",
    "    fig.update_yaxes(title_text='Metric Value', row=1, col=1)\n",
    "    fig.update_yaxes(title_text='Metric Value', row=1, col=2)\n",
    "    fig.update_yaxes(title_text='Metric Value', row=2, col=1)\n",
    "    fig.update_yaxes(title_text='Metric Value', row=2, col=2)\n",
    "    \n",
    "    \n",
    "    fig.update_layout(title='Metric Comparison for Neural Network and Hybrid Models', height=800, width=900)\n",
    "    \n",
    "    fig.show()\n",
    "\n",
    "# List of target columns\n",
    "target_columns = list(results.keys())\n",
    "\n",
    "# Plot metrics using Plotly\n",
    "plot_metric_comparison(metrics_nn, metrics_hybrid, target_columns)\n",
    "\n"
   ]
  }
 ],
 "metadata": {
  "kernelspec": {
   "display_name": "Python 3 (ipykernel)",
   "language": "python",
   "name": "python3"
  },
  "language_info": {
   "codemirror_mode": {
    "name": "ipython",
    "version": 3
   },
   "file_extension": ".py",
   "mimetype": "text/x-python",
   "name": "python",
   "nbconvert_exporter": "python",
   "pygments_lexer": "ipython3",
   "version": "3.10.9"
  }
 },
 "nbformat": 4,
 "nbformat_minor": 5
}
